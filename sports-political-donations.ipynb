{
 "cells": [
  {
   "cell_type": "markdown",
   "id": "8d64cb9c-0338-4045-8d64-0b48c3ce2914",
   "metadata": {},
   "source": [
    "# Sports Political Donations: Exploratory Data Analysis, Inference, & Prediction\n",
    "## By: Anna Wallin"
   ]
  },
  {
   "cell_type": "markdown",
   "id": "8fc16c5b-1e8b-4214-bdab-9b3654a8fff3",
   "metadata": {},
   "source": [
    "## Introduction:\n",
    "I am using data based on political donations by different sports owners from different leagues. Sports teams owners are rich and therefore powerful individuals, and the way that they donate can have influences/provide insights about the politics of the area. My data set is a CSV file with the owner, team, league, recipient, amount, election year, & party. "
   ]
  },
  {
   "cell_type": "markdown",
   "id": "772bdd78-531c-4827-89a6-f31e17857401",
   "metadata": {},
   "source": [
    "## Motivations/Overview of this Project:\n",
    "\n",
    "I am interested in not only the political skew of the different sports teams leagues (see sections 1 & 2), but also seeing if geography and/or voting habits in geographical areas indicate how the sports team owner in that area will donate (see section 3)."
   ]
  },
  {
   "cell_type": "code",
   "execution_count": 644,
   "id": "60b2bace-5714-4195-a308-1d970d0c3cf1",
   "metadata": {},
   "outputs": [],
   "source": [
    "import pandas as pd\n",
    "import numpy as np\n",
    "import matplotlib.pyplot as plt\n",
    "import seaborn as sns\n",
    "import re"
   ]
  },
  {
   "cell_type": "markdown",
   "id": "8fe6d877-3565-4919-9a69-b9fc58347f68",
   "metadata": {},
   "source": [
    "## Part 1: EDA "
   ]
  },
  {
   "cell_type": "code",
   "execution_count": 645,
   "id": "a2558a28-e153-48b1-aa12-594d15f7d33c",
   "metadata": {},
   "outputs": [
    {
     "data": {
      "text/html": [
       "<div>\n",
       "<style scoped>\n",
       "    .dataframe tbody tr th:only-of-type {\n",
       "        vertical-align: middle;\n",
       "    }\n",
       "\n",
       "    .dataframe tbody tr th {\n",
       "        vertical-align: top;\n",
       "    }\n",
       "\n",
       "    .dataframe thead th {\n",
       "        text-align: right;\n",
       "    }\n",
       "</style>\n",
       "<table border=\"1\" class=\"dataframe\">\n",
       "  <thead>\n",
       "    <tr style=\"text-align: right;\">\n",
       "      <th></th>\n",
       "      <th>Owner</th>\n",
       "      <th>Team</th>\n",
       "      <th>League</th>\n",
       "      <th>Recipient</th>\n",
       "      <th>Amount</th>\n",
       "      <th>Election Year</th>\n",
       "      <th>Party</th>\n",
       "    </tr>\n",
       "  </thead>\n",
       "  <tbody>\n",
       "    <tr>\n",
       "      <th>0</th>\n",
       "      <td>Adam Silver</td>\n",
       "      <td>Commissioner</td>\n",
       "      <td>NBA</td>\n",
       "      <td>WRIGHT 2016</td>\n",
       "      <td>$4,000</td>\n",
       "      <td>2016</td>\n",
       "      <td>Democrat</td>\n",
       "    </tr>\n",
       "    <tr>\n",
       "      <th>1</th>\n",
       "      <td>Adam Silver</td>\n",
       "      <td>Commissioner</td>\n",
       "      <td>NBA</td>\n",
       "      <td>BIDEN FOR PRESIDENT</td>\n",
       "      <td>$2,800</td>\n",
       "      <td>2020</td>\n",
       "      <td>Democrat</td>\n",
       "    </tr>\n",
       "    <tr>\n",
       "      <th>2</th>\n",
       "      <td>Adam Silver</td>\n",
       "      <td>Commissioner</td>\n",
       "      <td>NBA</td>\n",
       "      <td>CORY 2020</td>\n",
       "      <td>$2,700</td>\n",
       "      <td>2020</td>\n",
       "      <td>Democrat</td>\n",
       "    </tr>\n",
       "    <tr>\n",
       "      <th>3</th>\n",
       "      <td>Adam Silver</td>\n",
       "      <td>Commissioner</td>\n",
       "      <td>NBA</td>\n",
       "      <td>Kamala Harris for the People</td>\n",
       "      <td>$2,700</td>\n",
       "      <td>2020</td>\n",
       "      <td>Democrat</td>\n",
       "    </tr>\n",
       "    <tr>\n",
       "      <th>4</th>\n",
       "      <td>Adam Silver</td>\n",
       "      <td>Commissioner</td>\n",
       "      <td>NBA</td>\n",
       "      <td>Win The Era PAC</td>\n",
       "      <td>$2,700</td>\n",
       "      <td>2020</td>\n",
       "      <td>Democrat</td>\n",
       "    </tr>\n",
       "  </tbody>\n",
       "</table>\n",
       "</div>"
      ],
      "text/plain": [
       "         Owner          Team League                     Recipient   Amount  \\\n",
       "0  Adam Silver  Commissioner    NBA                   WRIGHT 2016  $4,000    \n",
       "1  Adam Silver  Commissioner    NBA           BIDEN FOR PRESIDENT  $2,800    \n",
       "2  Adam Silver  Commissioner    NBA                     CORY 2020  $2,700    \n",
       "3  Adam Silver  Commissioner    NBA  Kamala Harris for the People  $2,700    \n",
       "4  Adam Silver  Commissioner    NBA               Win The Era PAC  $2,700    \n",
       "\n",
       "   Election Year     Party  \n",
       "0           2016  Democrat  \n",
       "1           2020  Democrat  \n",
       "2           2020  Democrat  \n",
       "3           2020  Democrat  \n",
       "4           2020  Democrat  "
      ]
     },
     "execution_count": 645,
     "metadata": {},
     "output_type": "execute_result"
    }
   ],
   "source": [
    "donations = pd.read_csv(\"sports-political-donations.csv\")\n",
    "donations.head()"
   ]
  },
  {
   "cell_type": "code",
   "execution_count": 646,
   "id": "58b7ffb6-8351-4579-8c84-bdf69200f13e",
   "metadata": {},
   "outputs": [
    {
     "data": {
      "text/plain": [
       "(2798, 7)"
      ]
     },
     "execution_count": 646,
     "metadata": {},
     "output_type": "execute_result"
    }
   ],
   "source": [
    "donations.shape"
   ]
  },
  {
   "cell_type": "markdown",
   "id": "6a65579d-09ab-4a95-a862-df803ce6bb1b",
   "metadata": {},
   "source": [
    "### 1a. Data Cleaning"
   ]
  },
  {
   "cell_type": "markdown",
   "id": "36585f31-1dee-486b-90ba-267eba3531a5",
   "metadata": {},
   "source": [
    "I noticed as I was doing data that some of the leagues were not grouping up correctly, likely due to formatting errors. I researched how I can best clean the data to get rid of random blank spaces and incorrect formatting."
   ]
  },
  {
   "cell_type": "code",
   "execution_count": 647,
   "id": "e746f087-30c9-4477-acfe-5f517b680d3d",
   "metadata": {},
   "outputs": [],
   "source": [
    "for column in donations.select_dtypes(include=['object']).columns:\n",
    "    donations[column] = donations[column].apply(lambda x: re.sub(r'\\s+', ' ', str(x)).strip().upper())"
   ]
  },
  {
   "cell_type": "markdown",
   "id": "98b172b5-2118-4495-ba9d-767a46aa12dc",
   "metadata": {},
   "source": [
    "As shown below, some of the owners own multiple teams across different leagues, so I first need to make sure there is only one value in each column to follow one of the principles of tidy data."
   ]
  },
  {
   "cell_type": "code",
   "execution_count": 648,
   "id": "e883433f-e02f-4635-901c-e64a630c7ab4",
   "metadata": {},
   "outputs": [
    {
     "data": {
      "text/plain": [
       "'PHILADELPHIA 76ERS, NEW JERSEY DEVILS'"
      ]
     },
     "execution_count": 648,
     "metadata": {},
     "output_type": "execute_result"
    }
   ],
   "source": [
    "donations[\"Team\"].loc[640]"
   ]
  },
  {
   "cell_type": "markdown",
   "id": "38adfbf9-b8f4-4611-b41c-de9da6fc73c9",
   "metadata": {},
   "source": [
    "I adjusted the data by splitting across the comma and then exploding the data, adding a new row with that data in it."
   ]
  },
  {
   "cell_type": "code",
   "execution_count": 649,
   "id": "5a1d6bcf-76d0-4385-9564-dbb286931306",
   "metadata": {},
   "outputs": [],
   "source": [
    "donations['League'] = donations['League'].apply(lambda x: x.split(',') if isinstance(x, str) else x)\n",
    "donations['Team'] = donations['Team'].apply(lambda x: x.split(',') if isinstance(x, str) else x)\n",
    "\n",
    "donations = donations.explode(['League', 'Team'])"
   ]
  },
  {
   "cell_type": "markdown",
   "id": "b41c28d5-ea6b-4285-91e4-803dcf9ca826",
   "metadata": {},
   "source": [
    "I need to clean out the dollar signs so that doesn't affect the data. "
   ]
  },
  {
   "cell_type": "code",
   "execution_count": 650,
   "id": "a06f3487-3ce6-4e89-a46c-3b6b412b52e0",
   "metadata": {},
   "outputs": [],
   "source": [
    "donations['Amount'] = donations['Amount'].replace('[$,]', '', regex=True).astype(float)"
   ]
  },
  {
   "cell_type": "markdown",
   "id": "3f966c87-263b-4678-a383-412ea7a80ddc",
   "metadata": {},
   "source": [
    "I want to get rid of the N/A & Indepdent because neither tell me about the party breakdown of the donations if no party is assigned."
   ]
  },
  {
   "cell_type": "code",
   "execution_count": 651,
   "id": "48d5cfc9-c75f-4844-a67d-9291c7f20551",
   "metadata": {},
   "outputs": [
    {
     "data": {
      "text/html": [
       "<div>\n",
       "<style scoped>\n",
       "    .dataframe tbody tr th:only-of-type {\n",
       "        vertical-align: middle;\n",
       "    }\n",
       "\n",
       "    .dataframe tbody tr th {\n",
       "        vertical-align: top;\n",
       "    }\n",
       "\n",
       "    .dataframe thead th {\n",
       "        text-align: right;\n",
       "    }\n",
       "</style>\n",
       "<table border=\"1\" class=\"dataframe\">\n",
       "  <thead>\n",
       "    <tr style=\"text-align: right;\">\n",
       "      <th></th>\n",
       "      <th>Owner</th>\n",
       "      <th>Team</th>\n",
       "      <th>League</th>\n",
       "      <th>Recipient</th>\n",
       "      <th>Amount</th>\n",
       "      <th>Election Year</th>\n",
       "      <th>Party</th>\n",
       "    </tr>\n",
       "  </thead>\n",
       "  <tbody>\n",
       "    <tr>\n",
       "      <th>0</th>\n",
       "      <td>ADAM SILVER</td>\n",
       "      <td>COMMISSIONER</td>\n",
       "      <td>NBA</td>\n",
       "      <td>WRIGHT 2016</td>\n",
       "      <td>4000.0</td>\n",
       "      <td>2016</td>\n",
       "      <td>DEMOCRAT</td>\n",
       "    </tr>\n",
       "    <tr>\n",
       "      <th>1</th>\n",
       "      <td>ADAM SILVER</td>\n",
       "      <td>COMMISSIONER</td>\n",
       "      <td>NBA</td>\n",
       "      <td>BIDEN FOR PRESIDENT</td>\n",
       "      <td>2800.0</td>\n",
       "      <td>2020</td>\n",
       "      <td>DEMOCRAT</td>\n",
       "    </tr>\n",
       "    <tr>\n",
       "      <th>2</th>\n",
       "      <td>ADAM SILVER</td>\n",
       "      <td>COMMISSIONER</td>\n",
       "      <td>NBA</td>\n",
       "      <td>CORY 2020</td>\n",
       "      <td>2700.0</td>\n",
       "      <td>2020</td>\n",
       "      <td>DEMOCRAT</td>\n",
       "    </tr>\n",
       "    <tr>\n",
       "      <th>3</th>\n",
       "      <td>ADAM SILVER</td>\n",
       "      <td>COMMISSIONER</td>\n",
       "      <td>NBA</td>\n",
       "      <td>KAMALA HARRIS FOR THE PEOPLE</td>\n",
       "      <td>2700.0</td>\n",
       "      <td>2020</td>\n",
       "      <td>DEMOCRAT</td>\n",
       "    </tr>\n",
       "    <tr>\n",
       "      <th>4</th>\n",
       "      <td>ADAM SILVER</td>\n",
       "      <td>COMMISSIONER</td>\n",
       "      <td>NBA</td>\n",
       "      <td>WIN THE ERA PAC</td>\n",
       "      <td>2700.0</td>\n",
       "      <td>2020</td>\n",
       "      <td>DEMOCRAT</td>\n",
       "    </tr>\n",
       "  </tbody>\n",
       "</table>\n",
       "</div>"
      ],
      "text/plain": [
       "         Owner          Team League                     Recipient  Amount  \\\n",
       "0  ADAM SILVER  COMMISSIONER    NBA                   WRIGHT 2016  4000.0   \n",
       "1  ADAM SILVER  COMMISSIONER    NBA           BIDEN FOR PRESIDENT  2800.0   \n",
       "2  ADAM SILVER  COMMISSIONER    NBA                     CORY 2020  2700.0   \n",
       "3  ADAM SILVER  COMMISSIONER    NBA  KAMALA HARRIS FOR THE PEOPLE  2700.0   \n",
       "4  ADAM SILVER  COMMISSIONER    NBA               WIN THE ERA PAC  2700.0   \n",
       "\n",
       "   Election Year     Party  \n",
       "0           2016  DEMOCRAT  \n",
       "1           2020  DEMOCRAT  \n",
       "2           2020  DEMOCRAT  \n",
       "3           2020  DEMOCRAT  \n",
       "4           2020  DEMOCRAT  "
      ]
     },
     "execution_count": 651,
     "metadata": {},
     "output_type": "execute_result"
    }
   ],
   "source": [
    "donations = donations[~donations['Party'].isin(['NAN'])]\n",
    "donations = donations[~donations['Party'].isin(['INDEPENDENT'])]\n",
    "donations.head()"
   ]
  },
  {
   "cell_type": "markdown",
   "id": "f97e6654-a14c-4264-8fa3-af5138af67f4",
   "metadata": {},
   "source": [
    "I notice a small issue within my project data: the Bipartisan, but mostly leanings. I decided to just categorize them as what they are \"mostly\" marked as. "
   ]
  },
  {
   "cell_type": "code",
   "execution_count": 652,
   "id": "d2909934-6574-4ee4-bf33-c746191b1169",
   "metadata": {},
   "outputs": [],
   "source": [
    "donations['Party'] = donations['Party'].replace('BIPARTISAN, BUT MOSTLY DEMOCRATIC', 'DEMOCRAT')\n",
    "donations['Party'] = donations['Party'].replace('BIPARTISAN, BUT MOSTLY REPUBLICAN', 'REPUBLICAN')"
   ]
  },
  {
   "cell_type": "markdown",
   "id": "d167b5a1-bf61-4cc5-93e8-f1c44436aa92",
   "metadata": {},
   "source": [
    "### 1b: Exploratory Data Analysis"
   ]
  },
  {
   "cell_type": "markdown",
   "id": "33f79ada-ab23-4091-bc16-b524e26d93db",
   "metadata": {},
   "source": [
    "To get oriented with the data, I chose to see how the donations have varied over the year for the differing political parties. Interestingly enough, donations have decreased since 2016 for all of the parties. It also becomes clear that the data is highly skewed toward Republican focused donations."
   ]
  },
  {
   "cell_type": "code",
   "execution_count": 653,
   "id": "74ceab86-01af-4171-b6cf-b1a8aaea41d9",
   "metadata": {},
   "outputs": [
    {
     "data": {
      "image/png": "[encoded data removed]",
      "text/plain": [
       "<Figure size 1200x800 with 1 Axes>"
      ]
     },
     "metadata": {},
     "output_type": "display_data"
    }
   ],
   "source": [
    "donations_by_party = donations.groupby(['Election Year', 'Party'])['Amount'].sum().reset_index()\n",
    "# Plotting\n",
    "plt.figure(figsize=(12,8))\n",
    "sns.barplot(data=donations_by_party, x='Election Year', y='Amount', hue = 'Party', palette=['green', 'blue', 'red'])\n",
    "plt.title('Donations by Year and Political Party')\n",
    "plt.ylabel('Donation Amount ($)')\n",
    "plt.xlabel('Year')\n",
    "plt.show()"
   ]
  },
  {
   "cell_type": "markdown",
   "id": "0810df00-a1f8-434a-8a0b-20490545b8c0",
   "metadata": {},
   "source": [
    "I want to see how much each league has donated total and create a graph of that."
   ]
  },
  {
   "cell_type": "code",
   "execution_count": 654,
   "id": "07486b52-ebd0-4d9f-b657-41091622efdd",
   "metadata": {},
   "outputs": [
    {
     "data": {
      "image/png": "[encoded data removed]",
      "text/plain": [
       "<Figure size 640x480 with 1 Axes>"
      ]
     },
     "metadata": {},
     "output_type": "display_data"
    }
   ],
   "source": [
    "total_donations_per_league = donations.groupby('League')['Amount'].sum().reset_index()\n",
    "total_donations_per_league = total_donations_per_league.sort_values(ascending = False, by = ['Amount'])\n",
    "sns.barplot(data=total_donations_per_league, x='League', y='Amount')\n",
    "plt.title('Donations by League')\n",
    "plt.ylabel('Donation Amount ($) in Millions')\n",
    "plt.xlabel('League')\n",
    "plt.show()"
   ]
  },
  {
   "cell_type": "markdown",
   "id": "ce0a0e30-ca4a-4145-bf34-ed0b16db946e",
   "metadata": {},
   "source": [
    "I know that the WNBA is the only women's sports teams in this list, so I would like to see if the political donations of those in charge of women's sports at all differ from men's donations."
   ]
  },
  {
   "cell_type": "code",
   "execution_count": 655,
   "id": "21420e4c-65d6-4b50-843b-fb4d9adb1b86",
   "metadata": {},
   "outputs": [
    {
     "data": {
      "text/html": [
       "<div>\n",
       "<style scoped>\n",
       "    .dataframe tbody tr th:only-of-type {\n",
       "        vertical-align: middle;\n",
       "    }\n",
       "\n",
       "    .dataframe tbody tr th {\n",
       "        vertical-align: top;\n",
       "    }\n",
       "\n",
       "    .dataframe thead th {\n",
       "        text-align: right;\n",
       "    }\n",
       "</style>\n",
       "<table border=\"1\" class=\"dataframe\">\n",
       "  <thead>\n",
       "    <tr style=\"text-align: right;\">\n",
       "      <th></th>\n",
       "      <th>Party</th>\n",
       "      <th>Amount</th>\n",
       "      <th>Proportion</th>\n",
       "    </tr>\n",
       "  </thead>\n",
       "  <tbody>\n",
       "    <tr>\n",
       "      <th>2</th>\n",
       "      <td>REPUBLICAN</td>\n",
       "      <td>1055552.0</td>\n",
       "      <td>0.560289</td>\n",
       "    </tr>\n",
       "    <tr>\n",
       "      <th>1</th>\n",
       "      <td>DEMOCRAT</td>\n",
       "      <td>824640.0</td>\n",
       "      <td>0.437720</td>\n",
       "    </tr>\n",
       "    <tr>\n",
       "      <th>0</th>\n",
       "      <td>BIPARTISAN</td>\n",
       "      <td>3750.0</td>\n",
       "      <td>0.001991</td>\n",
       "    </tr>\n",
       "  </tbody>\n",
       "</table>\n",
       "</div>"
      ],
      "text/plain": [
       "        Party     Amount  Proportion\n",
       "2  REPUBLICAN  1055552.0    0.560289\n",
       "1    DEMOCRAT   824640.0    0.437720\n",
       "0  BIPARTISAN     3750.0    0.001991"
      ]
     },
     "execution_count": 655,
     "metadata": {},
     "output_type": "execute_result"
    }
   ],
   "source": [
    "WNBA_filtered = donations[donations[\"League\"] == \"WNBA\"]\n",
    "womens_donations = WNBA_filtered.groupby('Party')['Amount'].sum().reset_index().sort_values(ascending = False, by = [\"Amount\"])\n",
    "total_donations = womens_donations['Amount'].sum()\n",
    "womens_donations['Proportion'] = womens_donations['Amount'] / total_donations\n",
    "womens_donations"
   ]
  },
  {
   "cell_type": "code",
   "execution_count": 656,
   "id": "1ed36a27-bdea-45a4-b39f-7a5c067edf87",
   "metadata": {
    "scrolled": true
   },
   "outputs": [
    {
     "data": {
      "text/html": [
       "<div>\n",
       "<style scoped>\n",
       "    .dataframe tbody tr th:only-of-type {\n",
       "        vertical-align: middle;\n",
       "    }\n",
       "\n",
       "    .dataframe tbody tr th {\n",
       "        vertical-align: top;\n",
       "    }\n",
       "\n",
       "    .dataframe thead th {\n",
       "        text-align: right;\n",
       "    }\n",
       "</style>\n",
       "<table border=\"1\" class=\"dataframe\">\n",
       "  <thead>\n",
       "    <tr style=\"text-align: right;\">\n",
       "      <th></th>\n",
       "      <th>Party</th>\n",
       "      <th>Amount</th>\n",
       "      <th>Proportion</th>\n",
       "    </tr>\n",
       "  </thead>\n",
       "  <tbody>\n",
       "    <tr>\n",
       "      <th>2</th>\n",
       "      <td>REPUBLICAN</td>\n",
       "      <td>36785057.0</td>\n",
       "      <td>0.739392</td>\n",
       "    </tr>\n",
       "    <tr>\n",
       "      <th>1</th>\n",
       "      <td>DEMOCRAT</td>\n",
       "      <td>11345420.0</td>\n",
       "      <td>0.228047</td>\n",
       "    </tr>\n",
       "    <tr>\n",
       "      <th>0</th>\n",
       "      <td>BIPARTISAN</td>\n",
       "      <td>1619949.0</td>\n",
       "      <td>0.032562</td>\n",
       "    </tr>\n",
       "  </tbody>\n",
       "</table>\n",
       "</div>"
      ],
      "text/plain": [
       "        Party      Amount  Proportion\n",
       "2  REPUBLICAN  36785057.0    0.739392\n",
       "1    DEMOCRAT  11345420.0    0.228047\n",
       "0  BIPARTISAN   1619949.0    0.032562"
      ]
     },
     "execution_count": 656,
     "metadata": {},
     "output_type": "execute_result"
    }
   ],
   "source": [
    "men_filtered = donations[~donations['League'].isin(['WNBA'])]\n",
    "men_donations = men_filtered.groupby('Party')['Amount'].sum().reset_index().sort_values(ascending = False, by = [\"Amount\"])\n",
    "total_donations = men_donations['Amount'].sum()\n",
    "men_donations['Proportion'] = men_donations['Amount'] / total_donations\n",
    "men_donations"
   ]
  },
  {
   "cell_type": "markdown",
   "id": "c9b2e5ee-eb33-40ad-bbd1-5e5b94383ac2",
   "metadata": {},
   "source": [
    "Visualizing them next to each other:"
   ]
  },
  {
   "cell_type": "code",
   "execution_count": 657,
   "id": "c19440df-8436-4586-8208-f02e841d5f0a",
   "metadata": {},
   "outputs": [
    {
     "data": {
      "image/png": "[encoded data removed]",
      "text/plain": [
       "<Figure size 1000x500 with 1 Axes>"
      ]
     },
     "metadata": {},
     "output_type": "display_data"
    }
   ],
   "source": [
    "womens_donations['League'] = 'Women'\n",
    "men_donations['League'] = 'Men'\n",
    "\n",
    "combined_donations = pd.concat([womens_donations, men_donations])\n",
    "\n",
    "# Grouped barplot\n",
    "plt.figure(figsize = (10,5))\n",
    "sns.barplot(x='Party', y='Proportion', hue='League', data=combined_donations, palette=['pink', 'blue'])\n",
    "\n",
    "# Titles and labels\n",
    "plt.title(\"Proportion of Donations by Party: Women's vs Men's Leagues\")\n",
    "plt.xlabel(\"Party\")\n",
    "plt.ylabel(\"Total Amount\")\n",
    "plt.legend(title='League')\n",
    "\n",
    "# Display the plot\n",
    "plt.show()"
   ]
  },
  {
   "cell_type": "markdown",
   "id": "715ae3e5-99a7-4617-b205-0443f901204c",
   "metadata": {},
   "source": [
    "I want to geographically group the teams and see what part of the country they are from and the political party donation patterns from those areas. I am setting up the stage for my prediction so I can compare the data to how people in those areas tend to vote."
   ]
  },
  {
   "cell_type": "markdown",
   "id": "93ba727e-d2f3-4d0d-b0b7-15eb78867b7f",
   "metadata": {},
   "source": [
    "First I read in the file:"
   ]
  },
  {
   "cell_type": "code",
   "execution_count": 658,
   "id": "4d272625-d75c-4de5-bbd0-02533affe0ed",
   "metadata": {},
   "outputs": [
    {
     "data": {
      "text/html": [
       "<div>\n",
       "<style scoped>\n",
       "    .dataframe tbody tr th:only-of-type {\n",
       "        vertical-align: middle;\n",
       "    }\n",
       "\n",
       "    .dataframe tbody tr th {\n",
       "        vertical-align: top;\n",
       "    }\n",
       "\n",
       "    .dataframe thead th {\n",
       "        text-align: right;\n",
       "    }\n",
       "</style>\n",
       "<table border=\"1\" class=\"dataframe\">\n",
       "  <thead>\n",
       "    <tr style=\"text-align: right;\">\n",
       "      <th></th>\n",
       "      <th>city</th>\n",
       "      <th>city_ascii</th>\n",
       "      <th>state_id</th>\n",
       "      <th>state_name</th>\n",
       "      <th>county_fips</th>\n",
       "      <th>county_name</th>\n",
       "      <th>lat</th>\n",
       "      <th>lng</th>\n",
       "      <th>population</th>\n",
       "      <th>density</th>\n",
       "      <th>source</th>\n",
       "      <th>military</th>\n",
       "      <th>incorporated</th>\n",
       "      <th>timezone</th>\n",
       "      <th>ranking</th>\n",
       "      <th>zips</th>\n",
       "      <th>id</th>\n",
       "    </tr>\n",
       "  </thead>\n",
       "  <tbody>\n",
       "    <tr>\n",
       "      <th>0</th>\n",
       "      <td>New York</td>\n",
       "      <td>New York</td>\n",
       "      <td>NY</td>\n",
       "      <td>New York</td>\n",
       "      <td>36081</td>\n",
       "      <td>Queens</td>\n",
       "      <td>40.6943</td>\n",
       "      <td>-73.9249</td>\n",
       "      <td>18908608</td>\n",
       "      <td>11080.3</td>\n",
       "      <td>shape</td>\n",
       "      <td>False</td>\n",
       "      <td>True</td>\n",
       "      <td>America/New_York</td>\n",
       "      <td>1</td>\n",
       "      <td>11229 11228 11226 11225 11224 11222 11221 1122...</td>\n",
       "      <td>1840034016</td>\n",
       "    </tr>\n",
       "    <tr>\n",
       "      <th>1</th>\n",
       "      <td>Los Angeles</td>\n",
       "      <td>Los Angeles</td>\n",
       "      <td>CA</td>\n",
       "      <td>California</td>\n",
       "      <td>6037</td>\n",
       "      <td>Los Angeles</td>\n",
       "      <td>34.1141</td>\n",
       "      <td>-118.4068</td>\n",
       "      <td>11922389</td>\n",
       "      <td>3184.7</td>\n",
       "      <td>shape</td>\n",
       "      <td>False</td>\n",
       "      <td>True</td>\n",
       "      <td>America/Los_Angeles</td>\n",
       "      <td>1</td>\n",
       "      <td>91367 90291 90293 90292 91316 91311 90035 9003...</td>\n",
       "      <td>1840020491</td>\n",
       "    </tr>\n",
       "    <tr>\n",
       "      <th>2</th>\n",
       "      <td>Chicago</td>\n",
       "      <td>Chicago</td>\n",
       "      <td>IL</td>\n",
       "      <td>Illinois</td>\n",
       "      <td>17031</td>\n",
       "      <td>Cook</td>\n",
       "      <td>41.8375</td>\n",
       "      <td>-87.6866</td>\n",
       "      <td>8497759</td>\n",
       "      <td>4614.5</td>\n",
       "      <td>shape</td>\n",
       "      <td>False</td>\n",
       "      <td>True</td>\n",
       "      <td>America/Chicago</td>\n",
       "      <td>1</td>\n",
       "      <td>60018 60649 60641 60640 60643 60642 60645 6064...</td>\n",
       "      <td>1840000494</td>\n",
       "    </tr>\n",
       "    <tr>\n",
       "      <th>3</th>\n",
       "      <td>Miami</td>\n",
       "      <td>Miami</td>\n",
       "      <td>FL</td>\n",
       "      <td>Florida</td>\n",
       "      <td>12086</td>\n",
       "      <td>Miami-Dade</td>\n",
       "      <td>25.7840</td>\n",
       "      <td>-80.2101</td>\n",
       "      <td>6080145</td>\n",
       "      <td>4758.9</td>\n",
       "      <td>shape</td>\n",
       "      <td>False</td>\n",
       "      <td>True</td>\n",
       "      <td>America/New_York</td>\n",
       "      <td>1</td>\n",
       "      <td>33128 33129 33125 33126 33127 33149 33144 3314...</td>\n",
       "      <td>1840015149</td>\n",
       "    </tr>\n",
       "    <tr>\n",
       "      <th>4</th>\n",
       "      <td>Houston</td>\n",
       "      <td>Houston</td>\n",
       "      <td>TX</td>\n",
       "      <td>Texas</td>\n",
       "      <td>48201</td>\n",
       "      <td>Harris</td>\n",
       "      <td>29.7860</td>\n",
       "      <td>-95.3885</td>\n",
       "      <td>5970127</td>\n",
       "      <td>1384.0</td>\n",
       "      <td>shape</td>\n",
       "      <td>False</td>\n",
       "      <td>True</td>\n",
       "      <td>America/Chicago</td>\n",
       "      <td>1</td>\n",
       "      <td>77069 77068 77061 77060 77063 77062 77065 7706...</td>\n",
       "      <td>1840020925</td>\n",
       "    </tr>\n",
       "  </tbody>\n",
       "</table>\n",
       "</div>"
      ],
      "text/plain": [
       "          city   city_ascii state_id  state_name  county_fips  county_name  \\\n",
       "0     New York     New York       NY    New York        36081       Queens   \n",
       "1  Los Angeles  Los Angeles       CA  California         6037  Los Angeles   \n",
       "2      Chicago      Chicago       IL    Illinois        17031         Cook   \n",
       "3        Miami        Miami       FL     Florida        12086   Miami-Dade   \n",
       "4      Houston      Houston       TX       Texas        48201       Harris   \n",
       "\n",
       "       lat       lng  population  density source  military  incorporated  \\\n",
       "0  40.6943  -73.9249    18908608  11080.3  shape     False          True   \n",
       "1  34.1141 -118.4068    11922389   3184.7  shape     False          True   \n",
       "2  41.8375  -87.6866     8497759   4614.5  shape     False          True   \n",
       "3  25.7840  -80.2101     6080145   4758.9  shape     False          True   \n",
       "4  29.7860  -95.3885     5970127   1384.0  shape     False          True   \n",
       "\n",
       "              timezone  ranking  \\\n",
       "0     America/New_York        1   \n",
       "1  America/Los_Angeles        1   \n",
       "2      America/Chicago        1   \n",
       "3     America/New_York        1   \n",
       "4      America/Chicago        1   \n",
       "\n",
       "                                                zips          id  \n",
       "0  11229 11228 11226 11225 11224 11222 11221 1122...  1840034016  \n",
       "1  91367 90291 90293 90292 91316 91311 90035 9003...  1840020491  \n",
       "2  60018 60649 60641 60640 60643 60642 60645 6064...  1840000494  \n",
       "3  33128 33129 33125 33126 33127 33149 33144 3314...  1840015149  \n",
       "4  77069 77068 77061 77060 77063 77062 77065 7706...  1840020925  "
      ]
     },
     "execution_count": 658,
     "metadata": {},
     "output_type": "execute_result"
    }
   ],
   "source": [
    "cities = pd.read_csv(\"uscities.csv\")\n",
    "cities.head(5)"
   ]
  },
  {
   "cell_type": "markdown",
   "id": "a4d915b9-9f7a-4bf0-8980-b0260a51d817",
   "metadata": {},
   "source": [
    "I don't need all of the info so I filter for what could be helpful. I also need to make the data set all uppercase to match my donations data set."
   ]
  },
  {
   "cell_type": "code",
   "execution_count": 659,
   "id": "e682c096-1b43-4522-8ca4-5d22dcb56bca",
   "metadata": {},
   "outputs": [
    {
     "data": {
      "text/html": [
       "<div>\n",
       "<style scoped>\n",
       "    .dataframe tbody tr th:only-of-type {\n",
       "        vertical-align: middle;\n",
       "    }\n",
       "\n",
       "    .dataframe tbody tr th {\n",
       "        vertical-align: top;\n",
       "    }\n",
       "\n",
       "    .dataframe thead th {\n",
       "        text-align: right;\n",
       "    }\n",
       "</style>\n",
       "<table border=\"1\" class=\"dataframe\">\n",
       "  <thead>\n",
       "    <tr style=\"text-align: right;\">\n",
       "      <th></th>\n",
       "      <th>city</th>\n",
       "      <th>state_name</th>\n",
       "      <th>lat</th>\n",
       "      <th>lng</th>\n",
       "    </tr>\n",
       "  </thead>\n",
       "  <tbody>\n",
       "    <tr>\n",
       "      <th>0</th>\n",
       "      <td>NEW YORK</td>\n",
       "      <td>NEW YORK</td>\n",
       "      <td>40.6943</td>\n",
       "      <td>-73.9249</td>\n",
       "    </tr>\n",
       "    <tr>\n",
       "      <th>1</th>\n",
       "      <td>LOS ANGELES</td>\n",
       "      <td>CALIFORNIA</td>\n",
       "      <td>34.1141</td>\n",
       "      <td>-118.4068</td>\n",
       "    </tr>\n",
       "    <tr>\n",
       "      <th>2</th>\n",
       "      <td>CHICAGO</td>\n",
       "      <td>ILLINOIS</td>\n",
       "      <td>41.8375</td>\n",
       "      <td>-87.6866</td>\n",
       "    </tr>\n",
       "    <tr>\n",
       "      <th>3</th>\n",
       "      <td>MIAMI</td>\n",
       "      <td>FLORIDA</td>\n",
       "      <td>25.7840</td>\n",
       "      <td>-80.2101</td>\n",
       "    </tr>\n",
       "    <tr>\n",
       "      <th>4</th>\n",
       "      <td>HOUSTON</td>\n",
       "      <td>TEXAS</td>\n",
       "      <td>29.7860</td>\n",
       "      <td>-95.3885</td>\n",
       "    </tr>\n",
       "    <tr>\n",
       "      <th>...</th>\n",
       "      <td>...</td>\n",
       "      <td>...</td>\n",
       "      <td>...</td>\n",
       "      <td>...</td>\n",
       "    </tr>\n",
       "    <tr>\n",
       "      <th>31115</th>\n",
       "      <td>KOHATK</td>\n",
       "      <td>ARIZONA</td>\n",
       "      <td>32.5781</td>\n",
       "      <td>-112.0032</td>\n",
       "    </tr>\n",
       "    <tr>\n",
       "      <th>31116</th>\n",
       "      <td>IRONVILLE</td>\n",
       "      <td>PENNSYLVANIA</td>\n",
       "      <td>40.6586</td>\n",
       "      <td>-78.2155</td>\n",
       "    </tr>\n",
       "    <tr>\n",
       "      <th>31117</th>\n",
       "      <td>NEWKIRK</td>\n",
       "      <td>NEW MEXICO</td>\n",
       "      <td>35.0635</td>\n",
       "      <td>-104.2715</td>\n",
       "    </tr>\n",
       "    <tr>\n",
       "      <th>31118</th>\n",
       "      <td>FALCON VILLAGE</td>\n",
       "      <td>TEXAS</td>\n",
       "      <td>26.5652</td>\n",
       "      <td>-99.1341</td>\n",
       "    </tr>\n",
       "    <tr>\n",
       "      <th>31119</th>\n",
       "      <td>MILLERSTOWN</td>\n",
       "      <td>PENNSYLVANIA</td>\n",
       "      <td>40.2771</td>\n",
       "      <td>-78.3029</td>\n",
       "    </tr>\n",
       "  </tbody>\n",
       "</table>\n",
       "<p>31120 rows × 4 columns</p>\n",
       "</div>"
      ],
      "text/plain": [
       "                 city    state_name      lat       lng\n",
       "0            NEW YORK      NEW YORK  40.6943  -73.9249\n",
       "1         LOS ANGELES    CALIFORNIA  34.1141 -118.4068\n",
       "2             CHICAGO      ILLINOIS  41.8375  -87.6866\n",
       "3               MIAMI       FLORIDA  25.7840  -80.2101\n",
       "4             HOUSTON         TEXAS  29.7860  -95.3885\n",
       "...               ...           ...      ...       ...\n",
       "31115          KOHATK       ARIZONA  32.5781 -112.0032\n",
       "31116       IRONVILLE  PENNSYLVANIA  40.6586  -78.2155\n",
       "31117         NEWKIRK    NEW MEXICO  35.0635 -104.2715\n",
       "31118  FALCON VILLAGE         TEXAS  26.5652  -99.1341\n",
       "31119     MILLERSTOWN  PENNSYLVANIA  40.2771  -78.3029\n",
       "\n",
       "[31120 rows x 4 columns]"
      ]
     },
     "execution_count": 659,
     "metadata": {},
     "output_type": "execute_result"
    }
   ],
   "source": [
    "cities = cities[[\"city\", \"state_name\", \"lat\", \"lng\"]]\n",
    "cities = cities.apply(lambda col: col.str.upper() if col.dtype == 'object' else col)\n",
    "cities"
   ]
  },
  {
   "cell_type": "markdown",
   "id": "a7abcb9d-ef04-4347-afd7-8760c1123d71",
   "metadata": {},
   "source": [
    "Since some of the sports teams only have state names and not city names, I need to find the average latitude and longitude of the states, which I can do by grouping the state names and making a new data set with those values."
   ]
  },
  {
   "cell_type": "code",
   "execution_count": 660,
   "id": "7d13c1f7-33f9-450c-be4e-73ee6b594f36",
   "metadata": {},
   "outputs": [
    {
     "data": {
      "text/html": [
       "<div>\n",
       "<style scoped>\n",
       "    .dataframe tbody tr th:only-of-type {\n",
       "        vertical-align: middle;\n",
       "    }\n",
       "\n",
       "    .dataframe tbody tr th {\n",
       "        vertical-align: top;\n",
       "    }\n",
       "\n",
       "    .dataframe thead th {\n",
       "        text-align: right;\n",
       "    }\n",
       "</style>\n",
       "<table border=\"1\" class=\"dataframe\">\n",
       "  <thead>\n",
       "    <tr style=\"text-align: right;\">\n",
       "      <th></th>\n",
       "      <th>state_name</th>\n",
       "      <th>lat</th>\n",
       "      <th>lng</th>\n",
       "    </tr>\n",
       "  </thead>\n",
       "  <tbody>\n",
       "    <tr>\n",
       "      <th>0</th>\n",
       "      <td>ALABAMA</td>\n",
       "      <td>32.943928</td>\n",
       "      <td>-86.745325</td>\n",
       "    </tr>\n",
       "    <tr>\n",
       "      <th>1</th>\n",
       "      <td>ALASKA</td>\n",
       "      <td>61.421072</td>\n",
       "      <td>-149.984001</td>\n",
       "    </tr>\n",
       "    <tr>\n",
       "      <th>2</th>\n",
       "      <td>ARIZONA</td>\n",
       "      <td>33.892452</td>\n",
       "      <td>-111.588676</td>\n",
       "    </tr>\n",
       "    <tr>\n",
       "      <th>3</th>\n",
       "      <td>ARKANSAS</td>\n",
       "      <td>35.079339</td>\n",
       "      <td>-92.386757</td>\n",
       "    </tr>\n",
       "    <tr>\n",
       "      <th>4</th>\n",
       "      <td>CALIFORNIA</td>\n",
       "      <td>36.926551</td>\n",
       "      <td>-120.175087</td>\n",
       "    </tr>\n",
       "  </tbody>\n",
       "</table>\n",
       "</div>"
      ],
      "text/plain": [
       "   state_name        lat         lng\n",
       "0     ALABAMA  32.943928  -86.745325\n",
       "1      ALASKA  61.421072 -149.984001\n",
       "2     ARIZONA  33.892452 -111.588676\n",
       "3    ARKANSAS  35.079339  -92.386757\n",
       "4  CALIFORNIA  36.926551 -120.175087"
      ]
     },
     "execution_count": 660,
     "metadata": {},
     "output_type": "execute_result"
    }
   ],
   "source": [
    "state = cities.groupby('state_name', as_index=False).agg({\n",
    "    'lat': 'mean',\n",
    "    'lng': 'mean'\n",
    "})\n",
    "state.head()"
   ]
  },
  {
   "cell_type": "markdown",
   "id": "3c434e85-8ef4-46a3-9d56-edcb73969afc",
   "metadata": {},
   "source": [
    "Because I want to check to see if any of my data from the donations Teams are either a state or a city, I create a list that I can check:"
   ]
  },
  {
   "cell_type": "code",
   "execution_count": 661,
   "id": "bc502401-fe5a-4d6b-8d1a-f956cd635f5b",
   "metadata": {},
   "outputs": [
    {
     "data": {
      "text/plain": [
       "array(['NEW YORK', 'CALIFORNIA', 'ILLINOIS', ..., 'MOUNT WILSON',\n",
       "       'KOHATK', 'FALCON VILLAGE'], dtype=object)"
      ]
     },
     "execution_count": 661,
     "metadata": {},
     "output_type": "execute_result"
    }
   ],
   "source": [
    "state_city_names = pd.concat([cities['state_name'], cities['city']]).str.upper().unique()\n",
    "state_city_names "
   ]
  },
  {
   "cell_type": "code",
   "execution_count": 662,
   "id": "a6f60367-9bfd-4f3f-9d65-9998ba3af624",
   "metadata": {},
   "outputs": [],
   "source": [
    "location = donations.copy()\n",
    "\n",
    "location = location[[\"Team\", \"Amount\", \"Party\"]]\n",
    "\n",
    "# New column with the matched locations\n",
    "location['matched_location'] = location['Team'].apply(\n",
    "    lambda name: ','.join([word for word in name.split() if word in state_city_names])\n",
    ")\n",
    "\n",
    "# Filter to keep only rows where there was a match\n",
    "location = location[location['matched_location'] != '']"
   ]
  },
  {
   "cell_type": "code",
   "execution_count": 663,
   "id": "90ee8e89-c336-4519-a6e4-c1faf54585a8",
   "metadata": {},
   "outputs": [
    {
     "data": {
      "text/plain": [
       "array(['ARIZONA COYOTES', 'TENNESSEE TITANS', 'RICHARD PETTY MOTORSPORTS',\n",
       "       'LOS ANGELES ANGELS OF ANAHEIM', 'ATLANTA FALCONS',\n",
       "       'PITTSBURGH STEELERS', 'DALLAS WINGS', 'VEGAS GOLDEN KNIGHTS',\n",
       "       'PITTSBURGH PIRATES', 'TEXAS RANGERS', 'MIAMI MARLINS',\n",
       "       'TAMPA BAY BUCCANEERS', 'SAN FRANCISCO GIANTS', 'COLORADO ROCKIES',\n",
       "       'BOSTON BRUINS', 'DETROIT TIGERS', ' DETROIT RED WINGS',\n",
       "       'NEW YORK JETS', 'KANSAS CITY CHIEFS', 'OKLAHOMA CITY THUNDER',\n",
       "       'MINNESOTA WILD', 'HOUSTON TEXANS', 'ORLANDO MAGIC',\n",
       "       'CLEVELAND CAVALIERS', 'WASHINGTON FOOTBALL TEAM',\n",
       "       'PHILADELPHIA FLYERS', 'CAROLINA PANTHERS', 'PHILADELPHIA 76ERS',\n",
       "       ' NEW JERSEY DEVILS', 'SEATTLE KRAKEN', 'SEATTLE STORM',\n",
       "       'SAN FRANCISCO 49ERS', 'DENVER NUGGETS', ' COLORADO AVALANCHE',\n",
       "       'LOS ANGELES KINGS', 'NEW YORK METS', 'UTAH JAZZ',\n",
       "       'NEW ORLEANS PELICANS', ' NEW ORLEANS SAINTS',\n",
       "       'STEWART HAAS RACING', 'CHICAGO BEARS', 'MINNESOTA TIMBERWOLVES',\n",
       "       ' MINNESOTA LYNX', 'NEW YORK YANKEES', 'CHICAGO SKY',\n",
       "       'ANAHEIM DUCKS', 'NASHVILLE PREDATORS', 'INDIANA PACERS',\n",
       "       ' INDIANA FEVER', 'MILWAUKEE BUCKS', 'INDIANAPOLIS COLTS',\n",
       "       'NEW YORK KNICKS', ' NEW YORK RANGERS', 'TAMPA BAY LIGHTNING',\n",
       "       'PHILADELPHIA EAGLES', 'DALLAS COWBOYS', 'CHICAGO BULLS',\n",
       "       ' CHICAGO WHITE SOX', 'HOUSTON ASTROS', 'MINNESOTA TWINS',\n",
       "       'CLEVELAND BROWNS', 'PORTLAND TRAIL BLAZERS', ' SEATTLE SEAHAWKS',\n",
       "       'DENVER BRONCOS', 'JOE GIBBS RACING', 'OAKLAND ATHLETICS',\n",
       "       'NEW YORK GIANTS', 'PHILADELPHIA PHILLIES',\n",
       "       'COLUMBUS BLUE JACKETS', 'KANSAS CITY ROYALS', 'SEATTLE MARINERS',\n",
       "       'BOSTON RED SOX', 'NEW YORK ISLANDERS', 'ATLANTA DREAM',\n",
       "       'ARIZONA DIAMONDBACKS', 'BUFFALO SABRES', ' BUFFALO BILLS',\n",
       "       'CHICAGO CUBS', ' LOS ANGELES SPARKS', 'MILWAUKEE BREWERS',\n",
       "       'WASHINGTON NATIONALS', 'GREEN BAY PACKERS', 'ARIZONA CARDINALS',\n",
       "       'MIAMI HEAT', 'CINCINNATI BENGALS', 'CLEVELAND INDIANS',\n",
       "       'BALTIMORE ORIOLES', 'GOLDEN STATE WARRIORS',\n",
       "       'CAROLINA HURRICANES', 'RICHARD CHILDRESS RACING',\n",
       "       'CINCINNATI REDS', 'NEW ENGLAND PATRIOTS', 'PHOENIX SUNS',\n",
       "       ' PHOENIX MERCURY', 'CHICAGO BLACKHAWKS', 'PITTSBURGH PENGUINS',\n",
       "       'DETROIT LIONS', 'BALTIMORE RAVENS', 'MIAMI DOLPHINS',\n",
       "       'TAMPA BAY RAYS', 'WASHINGTON WIZARDS', ' WASHINGTON CAPITALS',\n",
       "       ' WASHINGTON MYSTICS', 'HOUSTON ROCKETS', 'DETROIT PISTONS',\n",
       "       'ATLANTA HAWKS', 'FLORIDA PANTHERS', 'SACRAMENTO KINGS',\n",
       "       'BOSTON CELTICS', 'MINNESOTA VIKINGS'], dtype=object)"
      ]
     },
     "execution_count": 663,
     "metadata": {},
     "output_type": "execute_result"
    }
   ],
   "source": [
    "location[\"Team\"].unique()"
   ]
  },
  {
   "cell_type": "markdown",
   "id": "bc4968bf-fb8d-40e3-856a-7a12183878db",
   "metadata": {},
   "source": [
    "Looking at the unique values an issue I see is that New York is both a city and a state, and same with Washington. I decided to drop New York and Washington from the states dataset bc the teams refer to the city. I also decided to drop Portland, Maine, from the cities because Portland is meant to refer to Oregon in this data set. Obviously this method isn't perfect, but it will get more accurate data. "
   ]
  },
  {
   "cell_type": "code",
   "execution_count": 664,
   "id": "684ff68c-8dd5-4c83-9db2-843abca0a5d4",
   "metadata": {},
   "outputs": [],
   "source": [
    "state = state[~state['state_name'].isin(['NEW YORK', 'WASHINGTON'])]\n",
    "cities = cities[~((cities['city'] == 'PORTLAND') & (cities['state_name'] == 'MAINE'))]"
   ]
  },
  {
   "cell_type": "markdown",
   "id": "8f83c2c3-f62c-4a73-aea4-88b2bde6f2ce",
   "metadata": {},
   "source": [
    "Adding this long and lat to the new location dataset:"
   ]
  },
  {
   "cell_type": "code",
   "execution_count": 665,
   "id": "730973aa-1e7b-4cbe-ae47-df0aeed6b738",
   "metadata": {},
   "outputs": [],
   "source": [
    "def get_lat_lng_for_team_from_cities(team_name, cities_df):\n",
    "    for city in cities_df['city']:\n",
    "        if city in team_name: \n",
    "            # Get the corresponding latitude and longitude from the cities DataFrame\n",
    "            city_data = cities_df[cities_df['city'] == city].iloc[0]\n",
    "            return city_data['lat'], city_data['lng']\n",
    "    return None, None  # If no city match is found\n",
    "\n",
    "def get_lat_lng_for_team_from_states(team_name, state_df):\n",
    "    for state in state_df['state_name']:\n",
    "        if state in team_name: \n",
    "            # Get the corresponding latitude and longitude from the states DataFrame\n",
    "            state_data = state_df[state_df['state_name'] == state].iloc[0]\n",
    "            return state_data['lat'], state_data['lng']\n",
    "    return None, None  # If no state match is found\n",
    "\n",
    "# First check for city matches, then check for state matches if no city match is found\n",
    "def get_lat_lng_for_team(team_name, cities_df, state_df):\n",
    "    lat, lng = get_lat_lng_for_team_from_cities(team_name, cities_df)\n",
    "    if lat is None and lng is None:  # If no city match, check state\n",
    "        lat, lng = get_lat_lng_for_team_from_states(team_name, state_df)\n",
    "    return lat, lng\n",
    "\n",
    "# Apply the function to get latitude and longitude for each team\n",
    "location['latitude'], location['longitude'] = zip(*location['Team'].apply(lambda team: get_lat_lng_for_team(team, cities, state)))"
   ]
  },
  {
   "cell_type": "markdown",
   "id": "0695f02a-3fcd-4552-94b7-c4ee1dcece90",
   "metadata": {},
   "source": [
    "Then, I group these by location and find which party is predominant for each specific place."
   ]
  },
  {
   "cell_type": "code",
   "execution_count": 666,
   "id": "e30b3695-e11c-4bbf-963d-d560443eca2b",
   "metadata": {},
   "outputs": [
    {
     "data": {
      "text/html": [
       "<div>\n",
       "<style scoped>\n",
       "    .dataframe tbody tr th:only-of-type {\n",
       "        vertical-align: middle;\n",
       "    }\n",
       "\n",
       "    .dataframe tbody tr th {\n",
       "        vertical-align: top;\n",
       "    }\n",
       "\n",
       "    .dataframe thead th {\n",
       "        text-align: right;\n",
       "    }\n",
       "</style>\n",
       "<table border=\"1\" class=\"dataframe\">\n",
       "  <thead>\n",
       "    <tr style=\"text-align: right;\">\n",
       "      <th></th>\n",
       "      <th>latitude</th>\n",
       "      <th>longitude</th>\n",
       "      <th>Party</th>\n",
       "      <th>count</th>\n",
       "    </tr>\n",
       "  </thead>\n",
       "  <tbody>\n",
       "    <tr>\n",
       "      <th>0</th>\n",
       "      <td>18.3643</td>\n",
       "      <td>-66.5611</td>\n",
       "      <td>BIPARTISAN</td>\n",
       "      <td>3</td>\n",
       "    </tr>\n",
       "    <tr>\n",
       "      <th>2</th>\n",
       "      <td>18.4054</td>\n",
       "      <td>-65.9792</td>\n",
       "      <td>REPUBLICAN</td>\n",
       "      <td>37</td>\n",
       "    </tr>\n",
       "    <tr>\n",
       "      <th>5</th>\n",
       "      <td>25.7840</td>\n",
       "      <td>-80.2101</td>\n",
       "      <td>REPUBLICAN</td>\n",
       "      <td>152</td>\n",
       "    </tr>\n",
       "    <tr>\n",
       "      <th>6</th>\n",
       "      <td>27.4830</td>\n",
       "      <td>-81.9097</td>\n",
       "      <td>DEMOCRAT</td>\n",
       "      <td>3</td>\n",
       "    </tr>\n",
       "    <tr>\n",
       "      <th>9</th>\n",
       "      <td>27.9945</td>\n",
       "      <td>-82.4447</td>\n",
       "      <td>REPUBLICAN</td>\n",
       "      <td>19</td>\n",
       "    </tr>\n",
       "  </tbody>\n",
       "</table>\n",
       "</div>"
      ],
      "text/plain": [
       "   latitude  longitude       Party  count\n",
       "0   18.3643   -66.5611  BIPARTISAN      3\n",
       "2   18.4054   -65.9792  REPUBLICAN     37\n",
       "5   25.7840   -80.2101  REPUBLICAN    152\n",
       "6   27.4830   -81.9097    DEMOCRAT      3\n",
       "9   27.9945   -82.4447  REPUBLICAN     19"
      ]
     },
     "execution_count": 666,
     "metadata": {},
     "output_type": "execute_result"
    }
   ],
   "source": [
    "location_grouped = location.groupby(['latitude', 'longitude', 'Party']).size().reset_index(name='count')\n",
    "location_predominant_party = location_grouped.loc[location_grouped.groupby(['latitude', 'longitude'])['count'].idxmax()]\n",
    "\n",
    "location_predominant_party.head()"
   ]
  },
  {
   "cell_type": "code",
   "execution_count": 667,
   "id": "5d53d3a7-67ef-415f-8322-d4f55d2bd1bc",
   "metadata": {},
   "outputs": [
    {
     "data": {
      "image/png": "[encoded data removed]",
      "text/plain": [
       "<Figure size 1200x800 with 1 Axes>"
      ]
     },
     "metadata": {},
     "output_type": "display_data"
    }
   ],
   "source": [
    "party_colors = {\n",
    "    \"DEMOCRAT\": 'blue',\n",
    "    \"BIPARTISAN\": 'green',\n",
    "    \"REPUBLICAN\": 'red'\n",
    "}\n",
    "\n",
    "# Map the party to its corresponding color\n",
    "location_predominant_party['color'] = location_predominant_party['Party'].map(party_colors)\n",
    "\n",
    "# Create the scatter plot\n",
    "plt.figure(figsize=(12, 8))\n",
    "plt.scatter(\n",
    "    location_predominant_party['longitude'],\n",
    "    location_predominant_party['latitude'],\n",
    "    c=location_predominant_party['color'],\n",
    "    alpha=0.7,\n",
    "    s=100\n",
    ")\n",
    "\n",
    "# Customize the plot\n",
    "plt.title('Predominant Political Party Donation by Location')\n",
    "plt.xlabel('Longitude')\n",
    "plt.ylabel('Latitude')\n",
    "plt.grid(True)"
   ]
  },
  {
   "cell_type": "markdown",
   "id": "0544edbb-f24f-4c38-8673-e582c2d92293",
   "metadata": {},
   "source": [
    "I want to look at who the highest donors are and how much they paid:"
   ]
  },
  {
   "cell_type": "code",
   "execution_count": 668,
   "id": "56de39c8-752a-4641-b61a-6d51509a1a8c",
   "metadata": {},
   "outputs": [],
   "source": [
    "highest_donors = donations.groupby([\"Owner\", \"Party\", \"League\"])[\"Amount\"].sum().reset_index().sort_values(ascending = False, by = [\"Amount\"])"
   ]
  },
  {
   "cell_type": "code",
   "execution_count": 669,
   "id": "906b57c4-7f4a-433e-9d2d-d1c59817c897",
   "metadata": {},
   "outputs": [
    {
     "data": {
      "text/html": [
       "<div>\n",
       "<style scoped>\n",
       "    .dataframe tbody tr th:only-of-type {\n",
       "        vertical-align: middle;\n",
       "    }\n",
       "\n",
       "    .dataframe tbody tr th {\n",
       "        vertical-align: top;\n",
       "    }\n",
       "\n",
       "    .dataframe thead th {\n",
       "        text-align: right;\n",
       "    }\n",
       "</style>\n",
       "<table border=\"1\" class=\"dataframe\">\n",
       "  <thead>\n",
       "    <tr style=\"text-align: right;\">\n",
       "      <th></th>\n",
       "      <th>Owner</th>\n",
       "      <th>Party</th>\n",
       "      <th>League</th>\n",
       "      <th>Amount</th>\n",
       "    </tr>\n",
       "  </thead>\n",
       "  <tbody>\n",
       "    <tr>\n",
       "      <th>35</th>\n",
       "      <td>CHARLES JOHNSON</td>\n",
       "      <td>REPUBLICAN</td>\n",
       "      <td>MLB</td>\n",
       "      <td>11030500.0</td>\n",
       "    </tr>\n",
       "    <tr>\n",
       "      <th>49</th>\n",
       "      <td>DAN DEVOS</td>\n",
       "      <td>REPUBLICAN</td>\n",
       "      <td>NBA</td>\n",
       "      <td>2310400.0</td>\n",
       "    </tr>\n",
       "    <tr>\n",
       "      <th>228</th>\n",
       "      <td>PETER ANGELOS</td>\n",
       "      <td>DEMOCRAT</td>\n",
       "      <td>MLB</td>\n",
       "      <td>2082772.0</td>\n",
       "    </tr>\n",
       "    <tr>\n",
       "      <th>235</th>\n",
       "      <td>PHILIP F. ANSCHUTZ</td>\n",
       "      <td>REPUBLICAN</td>\n",
       "      <td>NHL</td>\n",
       "      <td>1776700.0</td>\n",
       "    </tr>\n",
       "    <tr>\n",
       "      <th>193</th>\n",
       "      <td>LAURA RICKETTS</td>\n",
       "      <td>DEMOCRAT</td>\n",
       "      <td>MLB</td>\n",
       "      <td>1715424.0</td>\n",
       "    </tr>\n",
       "    <tr>\n",
       "      <th>...</th>\n",
       "      <td>...</td>\n",
       "      <td>...</td>\n",
       "      <td>...</td>\n",
       "      <td>...</td>\n",
       "    </tr>\n",
       "    <tr>\n",
       "      <th>316</th>\n",
       "      <td>WYC GROUSBECK</td>\n",
       "      <td>DEMOCRAT</td>\n",
       "      <td>NBA</td>\n",
       "      <td>500.0</td>\n",
       "    </tr>\n",
       "    <tr>\n",
       "      <th>102</th>\n",
       "      <td>HARVEY ALTER</td>\n",
       "      <td>DEMOCRAT</td>\n",
       "      <td>WNBA</td>\n",
       "      <td>500.0</td>\n",
       "    </tr>\n",
       "    <tr>\n",
       "      <th>69</th>\n",
       "      <td>DEAN A. SPANOS</td>\n",
       "      <td>DEMOCRAT</td>\n",
       "      <td>NFL</td>\n",
       "      <td>250.0</td>\n",
       "    </tr>\n",
       "    <tr>\n",
       "      <th>309</th>\n",
       "      <td>TROY STAFFORD</td>\n",
       "      <td>REPUBLICAN</td>\n",
       "      <td>NASCAR</td>\n",
       "      <td>250.0</td>\n",
       "    </tr>\n",
       "    <tr>\n",
       "      <th>138</th>\n",
       "      <td>JERRY BRUCKHEIMER</td>\n",
       "      <td>REPUBLICAN</td>\n",
       "      <td>NHL</td>\n",
       "      <td>250.0</td>\n",
       "    </tr>\n",
       "  </tbody>\n",
       "</table>\n",
       "<p>319 rows × 4 columns</p>\n",
       "</div>"
      ],
      "text/plain": [
       "                  Owner       Party  League      Amount\n",
       "35      CHARLES JOHNSON  REPUBLICAN     MLB  11030500.0\n",
       "49            DAN DEVOS  REPUBLICAN     NBA   2310400.0\n",
       "228       PETER ANGELOS    DEMOCRAT     MLB   2082772.0\n",
       "235  PHILIP F. ANSCHUTZ  REPUBLICAN     NHL   1776700.0\n",
       "193      LAURA RICKETTS    DEMOCRAT     MLB   1715424.0\n",
       "..                  ...         ...     ...         ...\n",
       "316       WYC GROUSBECK    DEMOCRAT     NBA       500.0\n",
       "102        HARVEY ALTER    DEMOCRAT    WNBA       500.0\n",
       "69       DEAN A. SPANOS    DEMOCRAT     NFL       250.0\n",
       "309       TROY STAFFORD  REPUBLICAN  NASCAR       250.0\n",
       "138   JERRY BRUCKHEIMER  REPUBLICAN     NHL       250.0\n",
       "\n",
       "[319 rows x 4 columns]"
      ]
     },
     "execution_count": 669,
     "metadata": {},
     "output_type": "execute_result"
    }
   ],
   "source": [
    "highest_donors "
   ]
  },
  {
   "cell_type": "markdown",
   "id": "cbee6077-52a4-4de2-8dc4-d20c456dcec4",
   "metadata": {},
   "source": [
    "I want to see how much each league donates per party & create a graph of that:"
   ]
  },
  {
   "cell_type": "code",
   "execution_count": 670,
   "id": "6ff9c972-0b60-4904-8f15-2ab8d26359a1",
   "metadata": {},
   "outputs": [
    {
     "data": {
      "text/html": [
       "<div>\n",
       "<style scoped>\n",
       "    .dataframe tbody tr th:only-of-type {\n",
       "        vertical-align: middle;\n",
       "    }\n",
       "\n",
       "    .dataframe tbody tr th {\n",
       "        vertical-align: top;\n",
       "    }\n",
       "\n",
       "    .dataframe thead th {\n",
       "        text-align: right;\n",
       "    }\n",
       "</style>\n",
       "<table border=\"1\" class=\"dataframe\">\n",
       "  <thead>\n",
       "    <tr style=\"text-align: right;\">\n",
       "      <th></th>\n",
       "      <th>League</th>\n",
       "      <th>Party</th>\n",
       "      <th>Amount</th>\n",
       "    </tr>\n",
       "  </thead>\n",
       "  <tbody>\n",
       "    <tr>\n",
       "      <th>15</th>\n",
       "      <td>MLB</td>\n",
       "      <td>REPUBLICAN</td>\n",
       "      <td>14653361.0</td>\n",
       "    </tr>\n",
       "    <tr>\n",
       "      <th>21</th>\n",
       "      <td>NBA</td>\n",
       "      <td>REPUBLICAN</td>\n",
       "      <td>8446100.0</td>\n",
       "    </tr>\n",
       "    <tr>\n",
       "      <th>27</th>\n",
       "      <td>NHL</td>\n",
       "      <td>REPUBLICAN</td>\n",
       "      <td>5143916.0</td>\n",
       "    </tr>\n",
       "    <tr>\n",
       "      <th>14</th>\n",
       "      <td>MLB</td>\n",
       "      <td>DEMOCRAT</td>\n",
       "      <td>4756629.0</td>\n",
       "    </tr>\n",
       "    <tr>\n",
       "      <th>24</th>\n",
       "      <td>NFL</td>\n",
       "      <td>REPUBLICAN</td>\n",
       "      <td>4633770.0</td>\n",
       "    </tr>\n",
       "  </tbody>\n",
       "</table>\n",
       "</div>"
      ],
      "text/plain": [
       "   League       Party      Amount\n",
       "15    MLB  REPUBLICAN  14653361.0\n",
       "21    NBA  REPUBLICAN   8446100.0\n",
       "27    NHL  REPUBLICAN   5143916.0\n",
       "14    MLB    DEMOCRAT   4756629.0\n",
       "24    NFL  REPUBLICAN   4633770.0"
      ]
     },
     "execution_count": 670,
     "metadata": {},
     "output_type": "execute_result"
    }
   ],
   "source": [
    "donations_by_league_party = donations.groupby([\"League\", \"Party\"])[\"Amount\"].sum().reset_index().sort_values(ascending = False, by = [\"Amount\"])\n",
    "donations_by_league_party.head()"
   ]
  },
  {
   "cell_type": "code",
   "execution_count": 671,
   "id": "5ab9aaee-a828-4cb0-83e2-015eac6e424a",
   "metadata": {},
   "outputs": [
    {
     "data": {
      "image/png": "[encoded data removed]",
      "text/plain": [
       "<Figure size 640x480 with 1 Axes>"
      ]
     },
     "metadata": {},
     "output_type": "display_data"
    }
   ],
   "source": [
    "sns.barplot(data=donations_by_league_party, x='League', y='Amount', hue = 'Party')\n",
    "plt.title('Donations by League & Party')\n",
    "plt.ylabel('Donation Amount ($) in Millions')\n",
    "plt.xlabel('League')\n",
    "plt.show()"
   ]
  },
  {
   "cell_type": "markdown",
   "id": "6675c82e-d85e-4a6f-b951-a040b0e243eb",
   "metadata": {},
   "source": [
    "Now I look at those owners who donated to multiple political groups."
   ]
  },
  {
   "cell_type": "code",
   "execution_count": 672,
   "id": "f7e28898-c338-4b37-a3dd-fae7e6fa26ca",
   "metadata": {},
   "outputs": [
    {
     "data": {
      "text/html": [
       "<div>\n",
       "<style scoped>\n",
       "    .dataframe tbody tr th:only-of-type {\n",
       "        vertical-align: middle;\n",
       "    }\n",
       "\n",
       "    .dataframe tbody tr th {\n",
       "        vertical-align: top;\n",
       "    }\n",
       "\n",
       "    .dataframe thead th {\n",
       "        text-align: right;\n",
       "    }\n",
       "</style>\n",
       "<table border=\"1\" class=\"dataframe\">\n",
       "  <thead>\n",
       "    <tr style=\"text-align: right;\">\n",
       "      <th></th>\n",
       "      <th>Owner</th>\n",
       "      <th>Multiple Parties</th>\n",
       "    </tr>\n",
       "  </thead>\n",
       "  <tbody>\n",
       "    <tr>\n",
       "      <th>57</th>\n",
       "      <td>HERBERT SIMON</td>\n",
       "      <td>3</td>\n",
       "    </tr>\n",
       "    <tr>\n",
       "      <th>70</th>\n",
       "      <td>JERRY JONES</td>\n",
       "      <td>3</td>\n",
       "    </tr>\n",
       "    <tr>\n",
       "      <th>55</th>\n",
       "      <td>HENRY AND SUSAN SAMUELI</td>\n",
       "      <td>3</td>\n",
       "    </tr>\n",
       "    <tr>\n",
       "      <th>56</th>\n",
       "      <td>HERBERT FRITCH</td>\n",
       "      <td>3</td>\n",
       "    </tr>\n",
       "    <tr>\n",
       "      <th>108</th>\n",
       "      <td>MICKY ARISON</td>\n",
       "      <td>3</td>\n",
       "    </tr>\n",
       "  </tbody>\n",
       "</table>\n",
       "</div>"
      ],
      "text/plain": [
       "                       Owner  Multiple Parties\n",
       "57             HERBERT SIMON                 3\n",
       "70               JERRY JONES                 3\n",
       "55   HENRY AND SUSAN SAMUELI                 3\n",
       "56            HERBERT FRITCH                 3\n",
       "108             MICKY ARISON                 3"
      ]
     },
     "execution_count": 672,
     "metadata": {},
     "output_type": "execute_result"
    }
   ],
   "source": [
    "unique_donations = donations.groupby([\"Owner\", \"Party\"]).size().reset_index(name=\"Count\")\n",
    "multi_party_donors = (\n",
    "    unique_donations.groupby(\"Owner\")[\"Party\"]\n",
    "    .nunique()\n",
    "    .reset_index()\n",
    "    .rename(columns={\"Party\": \"Multiple Parties\"})\n",
    ")\n",
    "multi_party_donors = multi_party_donors[multi_party_donors[\"Multiple Parties\"] > 1].sort_values(ascending = False, by = [\"Multiple Parties\"])\n",
    "\n",
    "multi_party_donors.head()"
   ]
  },
  {
   "cell_type": "code",
   "execution_count": 673,
   "id": "3501bc6b-52a0-4230-b4dd-1854667f27b6",
   "metadata": {},
   "outputs": [
    {
     "data": {
      "text/plain": [
       "'There are 87 donors who donated across more than 1 party!'"
      ]
     },
     "execution_count": 673,
     "metadata": {},
     "output_type": "execute_result"
    }
   ],
   "source": [
    "f\"There are {len(multi_party_donors)} donors who donated across more than 1 party!\""
   ]
  },
  {
   "cell_type": "markdown",
   "id": "65c469ae-43d2-43c6-9510-62eda227a178",
   "metadata": {},
   "source": [
    "## PART 1 CONCLUSIONS:\n",
    "After working with my data for a while, it is clear that there are far more Republican contributions, and that the MLB owners are some of the biggest contributors. Donations have also decreased since 2016 across the board. I notice that a lot of owners donate across multiple parties, which I found suprising. I was also suprised by my data when I grouped by latitude and longitude, because there was fewer conclusively republican data sets than I would have imagined. I also observed that the WNBA had a lot higher proportion of democratic donations than the male leagues, which was unsuprsing considering the political lean of women vs men in this country.\n",
    "\n",
    "I am still curious to know if male owners contribute to one party more than female owners, and to go further with this idea of gender and politics. I also wonder if donation amount is correlated to the net worth of the owners. Overall, I am hoping to find some sort of answers in the later stages of my project to see if the the donations from these owners correspond with the political beliefs of regular people (whether that be due to geographical political leanings or political beliefs among certain fanbases)."
   ]
  },
  {
   "cell_type": "markdown",
   "id": "7dc3862e-dfa4-4f0d-8119-d1fdcbab4e45",
   "metadata": {},
   "source": [
    "## Part 2: Inference "
   ]
  },
  {
   "cell_type": "markdown",
   "id": "931e7119-590a-4eef-8add-91579eaa7450",
   "metadata": {},
   "source": [
    "I already explored the idea of owners of female leagues vs male leagues, but I want to go further and create a hypothesis. As a reminder, here is the barchart I already created exploring this idea:"
   ]
  },
  {
   "cell_type": "code",
   "execution_count": 674,
   "id": "9791160e-9231-44a6-8a99-94bd229a8c44",
   "metadata": {},
   "outputs": [
    {
     "data": {
      "text/html": [
       "<div>\n",
       "<style scoped>\n",
       "    .dataframe tbody tr th:only-of-type {\n",
       "        vertical-align: middle;\n",
       "    }\n",
       "\n",
       "    .dataframe tbody tr th {\n",
       "        vertical-align: top;\n",
       "    }\n",
       "\n",
       "    .dataframe thead th {\n",
       "        text-align: right;\n",
       "    }\n",
       "</style>\n",
       "<table border=\"1\" class=\"dataframe\">\n",
       "  <thead>\n",
       "    <tr style=\"text-align: right;\">\n",
       "      <th></th>\n",
       "      <th>Party</th>\n",
       "      <th>Amount</th>\n",
       "      <th>Proportion</th>\n",
       "    </tr>\n",
       "  </thead>\n",
       "  <tbody>\n",
       "    <tr>\n",
       "      <th>2</th>\n",
       "      <td>REPUBLICAN</td>\n",
       "      <td>1055552.0</td>\n",
       "      <td>0.560289</td>\n",
       "    </tr>\n",
       "    <tr>\n",
       "      <th>1</th>\n",
       "      <td>DEMOCRAT</td>\n",
       "      <td>824640.0</td>\n",
       "      <td>0.437720</td>\n",
       "    </tr>\n",
       "    <tr>\n",
       "      <th>0</th>\n",
       "      <td>BIPARTISAN</td>\n",
       "      <td>3750.0</td>\n",
       "      <td>0.001991</td>\n",
       "    </tr>\n",
       "  </tbody>\n",
       "</table>\n",
       "</div>"
      ],
      "text/plain": [
       "        Party     Amount  Proportion\n",
       "2  REPUBLICAN  1055552.0    0.560289\n",
       "1    DEMOCRAT   824640.0    0.437720\n",
       "0  BIPARTISAN     3750.0    0.001991"
      ]
     },
     "execution_count": 674,
     "metadata": {},
     "output_type": "execute_result"
    }
   ],
   "source": [
    "WNBA_filtered = donations[donations[\"League\"] == \"WNBA\"]\n",
    "womens_donations = WNBA_filtered.groupby('Party')['Amount'].sum().reset_index().sort_values(ascending = False, by = [\"Amount\"])\n",
    "total_donations = womens_donations['Amount'].sum()\n",
    "womens_donations['Proportion'] = womens_donations['Amount'] / total_donations\n",
    "womens_donations"
   ]
  },
  {
   "cell_type": "code",
   "execution_count": 675,
   "id": "db5b06a5-53d5-4021-b05d-f44a8a005e6d",
   "metadata": {},
   "outputs": [
    {
     "data": {
      "text/html": [
       "<div>\n",
       "<style scoped>\n",
       "    .dataframe tbody tr th:only-of-type {\n",
       "        vertical-align: middle;\n",
       "    }\n",
       "\n",
       "    .dataframe tbody tr th {\n",
       "        vertical-align: top;\n",
       "    }\n",
       "\n",
       "    .dataframe thead th {\n",
       "        text-align: right;\n",
       "    }\n",
       "</style>\n",
       "<table border=\"1\" class=\"dataframe\">\n",
       "  <thead>\n",
       "    <tr style=\"text-align: right;\">\n",
       "      <th></th>\n",
       "      <th>Party</th>\n",
       "      <th>Amount</th>\n",
       "      <th>Proportion</th>\n",
       "    </tr>\n",
       "  </thead>\n",
       "  <tbody>\n",
       "    <tr>\n",
       "      <th>2</th>\n",
       "      <td>REPUBLICAN</td>\n",
       "      <td>36785057.0</td>\n",
       "      <td>0.739392</td>\n",
       "    </tr>\n",
       "    <tr>\n",
       "      <th>1</th>\n",
       "      <td>DEMOCRAT</td>\n",
       "      <td>11345420.0</td>\n",
       "      <td>0.228047</td>\n",
       "    </tr>\n",
       "    <tr>\n",
       "      <th>0</th>\n",
       "      <td>BIPARTISAN</td>\n",
       "      <td>1619949.0</td>\n",
       "      <td>0.032562</td>\n",
       "    </tr>\n",
       "  </tbody>\n",
       "</table>\n",
       "</div>"
      ],
      "text/plain": [
       "        Party      Amount  Proportion\n",
       "2  REPUBLICAN  36785057.0    0.739392\n",
       "1    DEMOCRAT  11345420.0    0.228047\n",
       "0  BIPARTISAN   1619949.0    0.032562"
      ]
     },
     "execution_count": 675,
     "metadata": {},
     "output_type": "execute_result"
    }
   ],
   "source": [
    "men_filtered = donations[~donations['League'].isin(['WNBA'])]\n",
    "men_donations = men_filtered.groupby('Party')['Amount'].sum().reset_index().sort_values(ascending = False, by = [\"Amount\"])\n",
    "total_donations = men_donations['Amount'].sum()\n",
    "men_donations['Proportion'] = men_donations['Amount'] / total_donations\n",
    "men_donations"
   ]
  },
  {
   "cell_type": "code",
   "execution_count": 676,
   "id": "3e185292-b056-490c-81e5-dfa7fd02d936",
   "metadata": {},
   "outputs": [
    {
     "data": {
      "image/png": "[encoded data removed]",
      "text/plain": [
       "<Figure size 1000x500 with 1 Axes>"
      ]
     },
     "metadata": {},
     "output_type": "display_data"
    }
   ],
   "source": [
    "womens_donations['League'] = 'Women'\n",
    "men_donations['League'] = 'Men'\n",
    "\n",
    "combined_donations = pd.concat([womens_donations, men_donations])\n",
    "\n",
    "# Grouped barplot\n",
    "plt.figure(figsize = (10,5))\n",
    "sns.barplot(x='Party', y='Proportion', hue='League', data=combined_donations, palette=['pink', 'blue'])\n",
    "\n",
    "# Titles and labels\n",
    "plt.title(\"Proportion of Donations by Party: Women's vs Men's Leagues\")\n",
    "plt.xlabel(\"Party\")\n",
    "plt.ylabel(\"Total Amount\")\n",
    "plt.legend(title='League')\n",
    "\n",
    "# Display the plot\n",
    "plt.show()"
   ]
  },
  {
   "cell_type": "markdown",
   "id": "885df3a0-ee8d-4703-b9b7-e98ce6033df4",
   "metadata": {},
   "source": [
    "Now I want to be more specific and group by both league and party to establish the effect of a categorical predictor variable (league ownership) on the proportion of donations to Democratic causes. "
   ]
  },
  {
   "cell_type": "markdown",
   "id": "d070f530-cf1a-4c6e-8e2e-23f6730115a6",
   "metadata": {},
   "source": [
    "### Null Hypothesis: \n",
    "There is no difference in the likelihood of donating to Democratic causes between WNBA owners and the owners of other leagues."
   ]
  },
  {
   "cell_type": "markdown",
   "id": "d614347c-1098-446b-a574-2a75487cd6dc",
   "metadata": {},
   "source": [
    "### Alternative Hypothesis: \n",
    "WNBA owners are more likely to contribute to Democratic causes than owners of other leagues."
   ]
  },
  {
   "cell_type": "code",
   "execution_count": 677,
   "id": "aeea4811-c4d8-42f1-ac4c-0c2b473d9067",
   "metadata": {},
   "outputs": [
    {
     "data": {
      "text/html": [
       "<div>\n",
       "<style scoped>\n",
       "    .dataframe tbody tr th:only-of-type {\n",
       "        vertical-align: middle;\n",
       "    }\n",
       "\n",
       "    .dataframe tbody tr th {\n",
       "        vertical-align: top;\n",
       "    }\n",
       "\n",
       "    .dataframe thead th {\n",
       "        text-align: right;\n",
       "    }\n",
       "</style>\n",
       "<table border=\"1\" class=\"dataframe\">\n",
       "  <thead>\n",
       "    <tr style=\"text-align: right;\">\n",
       "      <th></th>\n",
       "      <th>League</th>\n",
       "      <th>Party</th>\n",
       "      <th>Amount</th>\n",
       "      <th>Amount_total</th>\n",
       "      <th>Proportion</th>\n",
       "    </tr>\n",
       "  </thead>\n",
       "  <tbody>\n",
       "    <tr>\n",
       "      <th>0</th>\n",
       "      <td>MLB</td>\n",
       "      <td>BIPARTISAN</td>\n",
       "      <td>25000.0</td>\n",
       "      <td>1018875.0</td>\n",
       "      <td>0.024537</td>\n",
       "    </tr>\n",
       "    <tr>\n",
       "      <th>1</th>\n",
       "      <td>MLB</td>\n",
       "      <td>DEMOCRAT</td>\n",
       "      <td>429975.0</td>\n",
       "      <td>1018875.0</td>\n",
       "      <td>0.422010</td>\n",
       "    </tr>\n",
       "    <tr>\n",
       "      <th>2</th>\n",
       "      <td>MLB</td>\n",
       "      <td>REPUBLICAN</td>\n",
       "      <td>563900.0</td>\n",
       "      <td>1018875.0</td>\n",
       "      <td>0.553454</td>\n",
       "    </tr>\n",
       "    <tr>\n",
       "      <th>3</th>\n",
       "      <td>NASCAR</td>\n",
       "      <td>REPUBLICAN</td>\n",
       "      <td>2700.0</td>\n",
       "      <td>2700.0</td>\n",
       "      <td>1.000000</td>\n",
       "    </tr>\n",
       "    <tr>\n",
       "      <th>4</th>\n",
       "      <td>NFL</td>\n",
       "      <td>BIPARTISAN</td>\n",
       "      <td>25000.0</td>\n",
       "      <td>702300.0</td>\n",
       "      <td>0.035597</td>\n",
       "    </tr>\n",
       "  </tbody>\n",
       "</table>\n",
       "</div>"
      ],
      "text/plain": [
       "    League       Party    Amount  Amount_total  Proportion\n",
       "0      MLB  BIPARTISAN   25000.0     1018875.0    0.024537\n",
       "1      MLB    DEMOCRAT  429975.0     1018875.0    0.422010\n",
       "2      MLB  REPUBLICAN  563900.0     1018875.0    0.553454\n",
       "3   NASCAR  REPUBLICAN    2700.0        2700.0    1.000000\n",
       "4      NFL  BIPARTISAN   25000.0      702300.0    0.035597"
      ]
     },
     "execution_count": 677,
     "metadata": {},
     "output_type": "execute_result"
    }
   ],
   "source": [
    "# Grouping by league and party\n",
    "league_donations = donations.groupby(['League', 'Party'])['Amount'].sum().reset_index()\n",
    "\n",
    "# Calculate proportions within each league\n",
    "league_totals = league_donations.groupby('League')['Amount'].sum().reset_index()\n",
    "league_donations = league_donations.merge(league_totals, on='League', suffixes=('', '_total'))\n",
    "league_donations['Proportion'] = league_donations['Amount'] / league_donations['Amount_total']\n",
    "league_donations.head()"
   ]
  },
  {
   "cell_type": "markdown",
   "id": "c1abc08b-5c1f-4d4d-8933-c9b71511efae",
   "metadata": {},
   "source": [
    "#### Critical evaluation using bootstrapping:\n",
    "\n",
    "I am going to bootstrap my donation data for the WNBA people donating to democratic causes vs the other leagues donating to democratic causes."
   ]
  },
  {
   "cell_type": "code",
   "execution_count": 678,
   "id": "8318aaab-4443-4c34-83da-06b7ddac0485",
   "metadata": {},
   "outputs": [],
   "source": [
    "# Bootstrapping function for the proportions\n",
    "\n",
    "def bootstrap_proportions(data, league, party, n_bootstraps=1000):\n",
    "    proportions = []\n",
    "    for i in range(n_bootstraps):\n",
    "        sample = data.sample(frac=1, replace=True)\n",
    "        league_data = sample[sample['League'] == league]\n",
    "        party_data = league_data[league_data['Party'] == party]\n",
    "        total_amount = league_data['Amount'].sum()\n",
    "        party_amount = party_data['Amount'].sum()\n",
    "        proportions.append(party_amount / total_amount)\n",
    "    return proportions"
   ]
  },
  {
   "cell_type": "code",
   "execution_count": 679,
   "id": "1de7e68d-ebff-4af5-bb45-48e7fb097503",
   "metadata": {},
   "outputs": [],
   "source": [
    "# Bootstrapping for WNBA and other leagues democratic donations\n",
    "wnba_proportions = bootstrap_proportions(donations, 'WNBA', 'DEMOCRAT')\n",
    "nba_proportions = bootstrap_proportions(donations, 'NBA', 'DEMOCRAT')\n",
    "mlb_proportions = bootstrap_proportions(donations, 'MLB', 'DEMOCRAT')\n",
    "nascar_proportions = bootstrap_proportions(donations, 'NASCAR', 'DEMOCRAT')\n",
    "nfl_proportions = bootstrap_proportions(donations, 'NFL', 'DEMOCRAT')\n",
    "nhl_proportions = bootstrap_proportions(donations, 'NHL', 'DEMOCRAT')"
   ]
  },
  {
   "cell_type": "code",
   "execution_count": 680,
   "id": "751669eb-d4cc-455c-8ab0-0287ea39cc97",
   "metadata": {
    "scrolled": true
   },
   "outputs": [
    {
     "data": {
      "image/png": "[encoded data removed]",
      "text/plain": [
       "<Figure size 2000x1000 with 6 Axes>"
      ]
     },
     "metadata": {},
     "output_type": "display_data"
    }
   ],
   "source": [
    "# Define the league names for labeling\n",
    "leagues = ['WNBA', 'NBA', 'MLB', 'NASCAR', 'NFL', 'NHL']\n",
    "proportions_list = [wnba_proportions, nba_proportions, mlb_proportions, \n",
    "                    nascar_proportions, nfl_proportions, nhl_proportions]\n",
    "\n",
    "# Create histograms for each league\n",
    "plt.figure(figsize=(20, 10))  \n",
    "\n",
    "for i, proportions in enumerate(proportions_list):\n",
    "    plt.subplot(2, 3, i + 1)  # Create a subplot for each league\n",
    "    plt.hist(proportions, bins=30, alpha=0.7, color='blue', edgecolor = 'black')  # Create histogram\n",
    "    plt.title(f'Democratic Donations: {leagues[i]}')  # Set the title for each subplot\n",
    "    plt.xlabel('Proportion of Donations')  \n",
    "    plt.ylabel('Frequency')  \n",
    "    plt.xlim(0, 1)  # Set x-axis limits from 0 to 1\n",
    "    plt.grid(axis='y', alpha=0.75)  \n",
    "\n",
    "plt.show()"
   ]
  },
  {
   "cell_type": "markdown",
   "id": "b2bb1219-fd2e-4f94-9880-edbb6d38dbf8",
   "metadata": {},
   "source": [
    "#### Critical evaluation using confidence intervals:\n",
    "I generated 95% confidence intervals to represent the range of true proportion of contributions to Democratic causes by the different league owners."
   ]
  },
  {
   "cell_type": "code",
   "execution_count": 681,
   "id": "5500b258-8f66-4b38-be6e-3de4d312df89",
   "metadata": {},
   "outputs": [
    {
     "name": "stdout",
     "output_type": "stream",
     "text": [
      "WNBA 95% CI: [0.28687152 0.70854084]\n",
      "NBA 95% CI: [0.1599117  0.34247974]\n",
      "MLB 95% CI: [0.13465351 0.39768869]\n",
      "NASCAR 95% CI: [0.05103644 0.28755661]\n",
      "NFL 95% CI: [0.06267893 0.15636865]\n",
      "NHL 95% CI: [0.07651012 0.33767733]\n"
     ]
    }
   ],
   "source": [
    "# List of leagues\n",
    "leagues = ['WNBA', 'NBA', 'MLB', 'NASCAR', 'NFL', 'NHL']\n",
    "\n",
    "# Dictionary to hold bootstrapped proportions for each league\n",
    "bootstrapped_proportions = {\n",
    "    'WNBA': wnba_proportions,\n",
    "    'NBA': nba_proportions,\n",
    "    'MLB': mlb_proportions,\n",
    "    'NASCAR': nascar_proportions,\n",
    "    'NFL': nfl_proportions,\n",
    "    'NHL': nhl_proportions\n",
    "}\n",
    "\n",
    "# Dictionary to store confidence intervals\n",
    "confidence_intervals = {}\n",
    "\n",
    "# Calculate confidence intervals for each league\n",
    "for league in leagues:\n",
    "    proportions = bootstrapped_proportions[league]\n",
    "    ci = np.percentile(proportions, [2.5, 97.5])  # 95% CI\n",
    "    confidence_intervals[league] = ci\n",
    "    print(f\"{league} 95% CI: {ci}\")"
   ]
  },
  {
   "cell_type": "markdown",
   "id": "45afb87e-5fde-4e48-a5e5-1300e0392f1c",
   "metadata": {},
   "source": [
    "#### Finding the differences in the bootstrapped data"
   ]
  },
  {
   "cell_type": "code",
   "execution_count": 682,
   "id": "f9fdbdc6-35f8-4c8e-a179-410669bf7ea3",
   "metadata": {},
   "outputs": [],
   "source": [
    "# Function to calculate bootstrap differences\n",
    "def calculate_bootstrap_differences(proportions1, proportions2):\n",
    "    \"\"\"\n",
    "    Calculate bootstrap differences between two sets of bootstrapped proportions.\n",
    "    \n",
    "    - proportions1: Bootstrapped proportions for league 1.\n",
    "    - proportions2: Bootstrapped proportions for league 2.\n",
    "    \n",
    "    - Returns the differences between bootstrapped proportions.\n",
    "    \"\"\"\n",
    "    return np.array(proportions1) - np.array(proportions2)"
   ]
  },
  {
   "cell_type": "markdown",
   "id": "b78e55ff-6244-4cd4-a28c-31db11a2c6b2",
   "metadata": {},
   "source": [
    "#### Evaluating p-values under the null hypothesis (that the difference in data across leagues is 0)"
   ]
  },
  {
   "cell_type": "code",
   "execution_count": 683,
   "id": "cee306d3-ba6a-47d2-8f17-7563e749078d",
   "metadata": {},
   "outputs": [],
   "source": [
    "def calculate_p_value_direct(bootstrap_diffs):\n",
    "    \"\"\"\n",
    "    - bootstrap_diffs (list or array): Differences from bootstrapping.\n",
    "    \n",
    "    - returns the p-value for the test.\n",
    "    \"\"\"\n",
    "    extreme_count = np.sum(np.abs(bootstrap_diffs) == 0)  # Null hypothesis is difference = 0\n",
    "    p_value = extreme_count / len(bootstrap_diffs)\n",
    "    return p_value"
   ]
  },
  {
   "cell_type": "markdown",
   "id": "bc811ae8-6551-493d-8a84-318653b5ed32",
   "metadata": {},
   "source": [
    "Now I use my functions across the leagues, being sure to compare the leagues to the WNBA"
   ]
  },
  {
   "cell_type": "code",
   "execution_count": 684,
   "id": "b4546c2c-74bd-47e7-a310-bb3b8519b869",
   "metadata": {},
   "outputs": [
    {
     "name": "stdout",
     "output_type": "stream",
     "text": [
      "Comparison: WNBA vs NBA\n",
      "P-value: 0.0\n",
      "Comparison: WNBA vs MLB\n",
      "P-value: 0.0\n",
      "Comparison: WNBA vs NASCAR\n",
      "P-value: 0.0\n",
      "Comparison: WNBA vs NFL\n",
      "P-value: 0.0\n",
      "Comparison: WNBA vs NHL\n",
      "P-value: 0.0\n"
     ]
    }
   ],
   "source": [
    "# Dictionary to hold bootstrapped proportions for all leagues\n",
    "bootstrapped_proportions = {\n",
    "    'WNBA': wnba_proportions,\n",
    "    'NBA': nba_proportions,\n",
    "    'MLB': mlb_proportions,\n",
    "    'NASCAR': nascar_proportions,\n",
    "    'NFL': nfl_proportions,\n",
    "    'NHL': nhl_proportions\n",
    "}\n",
    "\n",
    "# Compare WNBA to all other leagues\n",
    "wnba_proportions = bootstrapped_proportions['WNBA']\n",
    "results = {}\n",
    "\n",
    "for league, proportions in bootstrapped_proportions.items():\n",
    "    if league == 'WNBA':\n",
    "        continue  # Skip comparing WNBA to itself\n",
    "\n",
    "    # Calculate bootstrap differences and p-value\n",
    "    bootstrap_diffs = calculate_bootstrap_differences(wnba_proportions, proportions)\n",
    "    p_value = calculate_p_value_direct(bootstrap_diffs)\n",
    "\n",
    "    # Store results\n",
    "    results[league] = {\n",
    "        'Bootstrap Differences': bootstrap_diffs,\n",
    "        'P-value': p_value\n",
    "    }\n",
    "\n",
    "    # Print the results for this league\n",
    "    print(f\"Comparison: WNBA vs {league}\")\n",
    "    print(f\"P-value: {p_value}\")"
   ]
  },
  {
   "cell_type": "markdown",
   "id": "138f7f03-cb33-45b0-9a2e-866bdf0b447f",
   "metadata": {},
   "source": [
    "## PART 2 CONCLUSIONS:\n",
    "\n",
    "Clearly, with p-values of 0, and looking at the bootstrapped graph, the findings are statistically significant. With this statistical analysis, I would accept my alternative hypothesis that WNBA owners are more likely to donate to democratic causes than any of the other leagues. However, this does not prove anything outright, as now I must think of potential factors that mediate this data. "
   ]
  },
  {
   "cell_type": "markdown",
   "id": "e4fc330f-3418-41c2-806c-3c0de8fb1f8b",
   "metadata": {},
   "source": [
    "Some potential confounding factors for further exploration:\n",
    "- Geography: Are WNBA teams based in more Democratic-leaning cities?\n",
    "- Sample size: is there too small of a sample size for the WNBA donations?\n",
    "- Outliers: are the proportions being skewed by an outlying owner who contributes an uncharacteristically high amount to the dems?"
   ]
  },
  {
   "cell_type": "markdown",
   "id": "2aaf68f0-8e69-43b2-8b39-f97c24438d0b",
   "metadata": {},
   "source": [
    "#### Exploring the outliers confounding factor:"
   ]
  },
  {
   "cell_type": "code",
   "execution_count": 685,
   "id": "62833dbf-8cdc-44cc-b318-e14a600b5d2d",
   "metadata": {},
   "outputs": [],
   "source": [
    "highest_dem_donors = highest_donors[highest_donors[\"Party\"] == \"DEMOCRAT\"]"
   ]
  },
  {
   "cell_type": "code",
   "execution_count": 686,
   "id": "74c357a5-dab0-49e6-9af6-7f48dcf50cdf",
   "metadata": {},
   "outputs": [],
   "source": [
    "# Function to remove the top 2 Democratic donors per league\n",
    "def remove_top_donors(data, n_top=2):\n",
    "    \"\"\"\n",
    "    Remove the top n Democratic donors for each league.\n",
    "    \n",
    "    Parameters:\n",
    "    - data (DataFrame): The donations dataframe.\n",
    "    - n_top (int): Number of top donors to remove per league.\n",
    "    \n",
    "    Returns:\n",
    "    - DataFrame: Filtered donations dataframe.\n",
    "    \"\"\"\n",
    "    filtered_data = []\n",
    "    \n",
    "    # Get unique leagues\n",
    "    leagues = data['League'].unique()\n",
    "    \n",
    "    for league in leagues:\n",
    "        # Filter donations for this league and party\n",
    "        league_donations = data[(data['League'] == league) & (data['Party'] == 'DEMOCRAT')]\n",
    "        \n",
    "        # Sort by amount in descending order and remove top n donors\n",
    "        top_donors = league_donations.nlargest(n_top, 'Amount').index\n",
    "        filtered_league = data.drop(top_donors)\n",
    "        \n",
    "        # Add the filtered league data\n",
    "        filtered_data.append(filtered_league)\n",
    "    \n",
    "    # Combine all the filtered data back\n",
    "    return pd.concat(filtered_data, ignore_index=True)\n",
    "\n",
    "# Remove the top 2 Democratic donors per league\n",
    "donations_filtered = remove_top_donors(donations)\n",
    "\n",
    "# Bootstrapping function remains the same\n",
    "wnba_proportions_filtered = bootstrap_proportions(donations_filtered, 'WNBA', 'DEMOCRAT')\n",
    "nba_proportions_filtered = bootstrap_proportions(donations_filtered, 'NBA', 'DEMOCRAT')\n",
    "mlb_proportions_filtered = bootstrap_proportions(donations_filtered, 'MLB', 'DEMOCRAT')\n",
    "nascar_proportions_filtered = bootstrap_proportions(donations_filtered, 'NASCAR', 'DEMOCRAT')\n",
    "nfl_proportions_filtered = bootstrap_proportions(donations_filtered, 'NFL', 'DEMOCRAT')\n",
    "nhl_proportions_filtered = bootstrap_proportions(donations_filtered, 'NHL', 'DEMOCRAT')"
   ]
  },
  {
   "cell_type": "code",
   "execution_count": 687,
   "id": "dd5423c0-b7f0-4ab6-940a-815a8e7cb9da",
   "metadata": {
    "scrolled": true
   },
   "outputs": [
    {
     "data": {
      "image/png": "[encoded data removed]",
      "text/plain": [
       "<Figure size 1800x1000 with 6 Axes>"
      ]
     },
     "metadata": {},
     "output_type": "display_data"
    }
   ],
   "source": [
    "# Define the league names for labeling\n",
    "leagues = ['WNBA', 'NBA', 'MLB', 'NASCAR', 'NFL', 'NHL']\n",
    "proportions_list = [wnba_proportions_filtered, nba_proportions_filtered, mlb_proportions_filtered, \n",
    "                    nascar_proportions_filtered, nfl_proportions_filtered, nhl_proportions_filtered]\n",
    "\n",
    "# Create histograms for each league\n",
    "plt.figure(figsize=(18, 10))  \n",
    "\n",
    "for i, proportions in enumerate(proportions_list):\n",
    "    plt.subplot(2, 3, i + 1)  # Create a subplot for each league\n",
    "    plt.hist(proportions, bins=30, alpha=0.7, color='blue', edgecolor = 'black')  # Create histogram\n",
    "    plt.title(f'Democratic Donations Without Top 2 Donors: {leagues[i]}')  # Set the title for each subplot\n",
    "    plt.xlabel('Proportion of Donations')  \n",
    "    plt.ylabel('Frequency')  \n",
    "    plt.xlim(0, 1)  # Set x-axis limits from 0 to 1\n",
    "    plt.grid(axis='y', alpha=0.75)  \n",
    "\n",
    "plt.show()"
   ]
  },
  {
   "cell_type": "markdown",
   "id": "44382238-b9e0-41c0-9176-671f4f144c93",
   "metadata": {},
   "source": [
    "### Closing Words on Part 2:\n",
    "After doing a visual assessment of this confounding factor, removing the top 2 donors does not significantly change the data in any way. Obviously, the other confounding factors are still a strong possibility for explaining why WBNA owners donate more democratically, but more inference would have to be conducted to establish this."
   ]
  },
  {
   "cell_type": "markdown",
   "id": "fa304d31-aa5d-478d-8a34-52aa59fe0dec",
   "metadata": {},
   "source": [
    "## Part 3: Prediction \n",
    "\n",
    "The target of interest in my data is predominant political party donated to by location. Since I want to do logistic regression, I want binary categories, so I chose to encode democratic donations as 0 and other (bipartisan and republican) as 1. "
   ]
  },
  {
   "cell_type": "markdown",
   "id": "f6e6c96b-d1d3-4401-a250-87d4a2725706",
   "metadata": {},
   "source": [
    "In my EDA section I explored the political party that was most donated to in the location of the sports teams, as re-graphed below:"
   ]
  },
  {
   "cell_type": "code",
   "execution_count": 688,
   "id": "76c22b6d-1134-48ce-b67f-1019e36a6373",
   "metadata": {},
   "outputs": [
    {
     "data": {
      "image/png": "[encoded data removed]",
      "text/plain": [
       "<Figure size 1200x800 with 1 Axes>"
      ]
     },
     "metadata": {},
     "output_type": "display_data"
    }
   ],
   "source": [
    "party_colors = {\n",
    "    \"DEMOCRAT\": 'blue',\n",
    "    \"BIPARTISAN\": 'green',\n",
    "    \"REPUBLICAN\": 'red'\n",
    "}\n",
    "\n",
    "# Map the party to its corresponding color\n",
    "location_predominant_party['color'] = location_predominant_party['Party'].map(party_colors)\n",
    "\n",
    "# Create the scatter plot\n",
    "plt.figure(figsize=(12, 8))\n",
    "plt.scatter(\n",
    "    location_predominant_party['longitude'],\n",
    "    location_predominant_party['latitude'],\n",
    "    c=location_predominant_party['color'],\n",
    "    alpha=0.7,\n",
    "    s=100\n",
    ")\n",
    "\n",
    "# Customize the plot\n",
    "plt.title('Predominant Political Party Donation by Location')\n",
    "plt.xlabel('Longitude')\n",
    "plt.ylabel('Latitude')\n",
    "plt.grid(True)"
   ]
  },
  {
   "cell_type": "code",
   "execution_count": 689,
   "id": "808d7b84-b7f4-4a92-9c0e-e9fafa7f65d5",
   "metadata": {},
   "outputs": [
    {
     "data": {
      "text/html": [
       "<div>\n",
       "<style scoped>\n",
       "    .dataframe tbody tr th:only-of-type {\n",
       "        vertical-align: middle;\n",
       "    }\n",
       "\n",
       "    .dataframe tbody tr th {\n",
       "        vertical-align: top;\n",
       "    }\n",
       "\n",
       "    .dataframe thead th {\n",
       "        text-align: right;\n",
       "    }\n",
       "</style>\n",
       "<table border=\"1\" class=\"dataframe\">\n",
       "  <thead>\n",
       "    <tr style=\"text-align: right;\">\n",
       "      <th></th>\n",
       "      <th>latitude</th>\n",
       "      <th>longitude</th>\n",
       "      <th>Party</th>\n",
       "      <th>count</th>\n",
       "    </tr>\n",
       "  </thead>\n",
       "  <tbody>\n",
       "    <tr>\n",
       "      <th>0</th>\n",
       "      <td>18.3643</td>\n",
       "      <td>-66.5611</td>\n",
       "      <td>BIPARTISAN</td>\n",
       "      <td>3</td>\n",
       "    </tr>\n",
       "    <tr>\n",
       "      <th>2</th>\n",
       "      <td>18.4054</td>\n",
       "      <td>-65.9792</td>\n",
       "      <td>REPUBLICAN</td>\n",
       "      <td>37</td>\n",
       "    </tr>\n",
       "    <tr>\n",
       "      <th>5</th>\n",
       "      <td>25.7840</td>\n",
       "      <td>-80.2101</td>\n",
       "      <td>REPUBLICAN</td>\n",
       "      <td>152</td>\n",
       "    </tr>\n",
       "    <tr>\n",
       "      <th>6</th>\n",
       "      <td>27.4830</td>\n",
       "      <td>-81.9097</td>\n",
       "      <td>DEMOCRAT</td>\n",
       "      <td>3</td>\n",
       "    </tr>\n",
       "    <tr>\n",
       "      <th>9</th>\n",
       "      <td>27.9945</td>\n",
       "      <td>-82.4447</td>\n",
       "      <td>REPUBLICAN</td>\n",
       "      <td>19</td>\n",
       "    </tr>\n",
       "  </tbody>\n",
       "</table>\n",
       "</div>"
      ],
      "text/plain": [
       "   latitude  longitude       Party  count\n",
       "0   18.3643   -66.5611  BIPARTISAN      3\n",
       "2   18.4054   -65.9792  REPUBLICAN     37\n",
       "5   25.7840   -80.2101  REPUBLICAN    152\n",
       "6   27.4830   -81.9097    DEMOCRAT      3\n",
       "9   27.9945   -82.4447  REPUBLICAN     19"
      ]
     },
     "execution_count": 689,
     "metadata": {},
     "output_type": "execute_result"
    }
   ],
   "source": [
    "location_grouped = location.groupby(['latitude', 'longitude', 'Party']).size().reset_index(name='count')\n",
    "predominant_donations = location_grouped.loc[location_grouped.groupby(['latitude', 'longitude'])['count'].idxmax()]\n",
    "predominant_donations.head()"
   ]
  },
  {
   "cell_type": "markdown",
   "id": "88d4daf7-71b6-4a4f-90e1-55632d2277a5",
   "metadata": {},
   "source": [
    "Now, I create the binary values for the data set. 0 is dem causes and 1 is not dem causes, as shown below:"
   ]
  },
  {
   "cell_type": "code",
   "execution_count": 690,
   "id": "cac6d9d2-320b-4398-82cd-4b0591f03e0e",
   "metadata": {},
   "outputs": [
    {
     "data": {
      "text/html": [
       "<div>\n",
       "<style scoped>\n",
       "    .dataframe tbody tr th:only-of-type {\n",
       "        vertical-align: middle;\n",
       "    }\n",
       "\n",
       "    .dataframe tbody tr th {\n",
       "        vertical-align: top;\n",
       "    }\n",
       "\n",
       "    .dataframe thead th {\n",
       "        text-align: right;\n",
       "    }\n",
       "</style>\n",
       "<table border=\"1\" class=\"dataframe\">\n",
       "  <thead>\n",
       "    <tr style=\"text-align: right;\">\n",
       "      <th></th>\n",
       "      <th>lat</th>\n",
       "      <th>lng</th>\n",
       "      <th>binary_party</th>\n",
       "    </tr>\n",
       "  </thead>\n",
       "  <tbody>\n",
       "    <tr>\n",
       "      <th>0</th>\n",
       "      <td>18.3643</td>\n",
       "      <td>-66.5611</td>\n",
       "      <td>1</td>\n",
       "    </tr>\n",
       "    <tr>\n",
       "      <th>2</th>\n",
       "      <td>18.4054</td>\n",
       "      <td>-65.9792</td>\n",
       "      <td>1</td>\n",
       "    </tr>\n",
       "    <tr>\n",
       "      <th>5</th>\n",
       "      <td>25.7840</td>\n",
       "      <td>-80.2101</td>\n",
       "      <td>1</td>\n",
       "    </tr>\n",
       "    <tr>\n",
       "      <th>6</th>\n",
       "      <td>27.4830</td>\n",
       "      <td>-81.9097</td>\n",
       "      <td>0</td>\n",
       "    </tr>\n",
       "    <tr>\n",
       "      <th>9</th>\n",
       "      <td>27.9945</td>\n",
       "      <td>-82.4447</td>\n",
       "      <td>1</td>\n",
       "    </tr>\n",
       "  </tbody>\n",
       "</table>\n",
       "</div>"
      ],
      "text/plain": [
       "       lat      lng  binary_party\n",
       "0  18.3643 -66.5611             1\n",
       "2  18.4054 -65.9792             1\n",
       "5  25.7840 -80.2101             1\n",
       "6  27.4830 -81.9097             0\n",
       "9  27.9945 -82.4447             1"
      ]
     },
     "execution_count": 690,
     "metadata": {},
     "output_type": "execute_result"
    }
   ],
   "source": [
    "# Define the mapping of Party to binary values\n",
    "party_mapping = {\n",
    "    \"DEMOCRAT\": 0,\n",
    "    \"BIPARTISAN\": 1,\n",
    "    \"REPUBLICAN\": 1  # Combine both bipartisan and republican into 1\n",
    "}\n",
    "\n",
    "# Map the Party column to numeric values\n",
    "predominant_donations['binary_party'] = predominant_donations['Party'].map(party_mapping)\n",
    "\n",
    "# Drop the original Party and count columns\n",
    "predominant_donations.drop(columns=[\"Party\", \"count\"], inplace=True)\n",
    "\n",
    "# Renaming latitude and longitude for easier use later on\n",
    "predominant_donations.rename(columns={\"latitude\": \"lat\", \"longitude\": \"lng\"}, inplace=True)\n",
    "\n",
    "# Display the updated dataset\n",
    "predominant_donations.head()"
   ]
  },
  {
   "cell_type": "markdown",
   "id": "ed0556e2-afe1-4164-9a7b-ff827b90988f",
   "metadata": {},
   "source": [
    "### Modeling framework: Logistic regression model using lat & long as predictors. \n",
    "\n",
    "I want to assess how lat & long act as predictors to binary_party. I assess lat & long independently, and then lat * long with lat & long. I use prediction and then KFold cross-validation to find the error across the folds."
   ]
  },
  {
   "cell_type": "code",
   "execution_count": 710,
   "id": "dc4d156e-85a3-4c16-8465-536cafe8a000",
   "metadata": {},
   "outputs": [
    {
     "name": "stdout",
     "output_type": "stream",
     "text": [
      "Model 1 (Lat and Long Separately) Cross-Validation Scores: [0.71428571 0.57142857 0.71428571 0.57142857]\n",
      "Model 1 Mean Accuracy: 0.6428571428571428\n",
      "\n",
      "P-Values for Model 1 (Lat and Long Separately):\n",
      "const    0.796756\n",
      "lat      0.097563\n",
      "lng      0.100145\n",
      "dtype: float64\n",
      "\n",
      "Model 2 (Lat * Long Only) Cross-Validation Scores: [0.85714286 0.57142857 0.78571429 0.57142857]\n",
      "Model 2 Mean Accuracy: 0.6964285714285714\n",
      "\n",
      "P-Values for Model 2 (Lat * Long Only):\n",
      "const             0.537793\n",
      "lat_times_long    0.948799\n",
      "dtype: float64\n",
      "\n",
      "Model 3 (Lat, Long, and Lat * Long Together) Cross-Validation Scores: [0.64285714 0.57142857 0.85714286 0.57142857]\n",
      "Model 3 Mean Accuracy: 0.6607142857142858\n",
      "\n",
      "P-Values for Model 3 (Lat, Long, and Lat * Long Together):\n",
      "const             0.668422\n",
      "lat               0.878175\n",
      "lng               0.420266\n",
      "lat_times_long    0.611538\n",
      "dtype: float64\n"
     ]
    }
   ],
   "source": [
    "from sklearn.linear_model import LogisticRegression\n",
    "from sklearn.model_selection import cross_val_score, KFold\n",
    "import statsmodels.api as sm\n",
    "\n",
    "# Making the lat * long part of the dataframe\n",
    "predominant_donations['lat_times_long'] = predominant_donations['lat'] * predominant_donations['lng']\n",
    "\n",
    "# Define predictors and target\n",
    "X1 = predominant_donations[['lat', 'lng']]\n",
    "X2 = predominant_donations[['lat_times_long']]\n",
    "X3 = predominant_donations[['lat', 'lng', 'lat_times_long']]\n",
    "y = predominant_donations['binary_party']\n",
    "\n",
    "# Initialize KFold for cross-validation\n",
    "kf = KFold(n_splits=4, shuffle=True, random_state=42)\n",
    "\n",
    "# Model 1: Lat and Long as separate predictors\n",
    "cv_scores1 = cross_val_score(LogisticRegression(), X1, y, cv=kf, scoring='accuracy')\n",
    "print(\"Model 1 (Lat and Long Separately) Cross-Validation Scores:\", cv_scores1)\n",
    "print(\"Model 1 Mean Accuracy:\", np.mean(cv_scores1))\n",
    "\n",
    "X1_sm = sm.add_constant(X1)\n",
    "result1_sm = sm.Logit(y, X1_sm).fit(disp=0)\n",
    "print(\"\\nP-Values for Model 1 (Lat and Long Separately):\")\n",
    "print(result1_sm.pvalues)\n",
    "\n",
    "# Model 2: Lat * Long as the only predictor\n",
    "cv_scores2 = cross_val_score(LogisticRegression(), X2, y, cv=kf, scoring='accuracy')\n",
    "print(\"\\nModel 2 (Lat * Long Only) Cross-Validation Scores:\", cv_scores2)\n",
    "print(\"Model 2 Mean Accuracy:\", np.mean(cv_scores2))\n",
    "\n",
    "X2_sm = sm.add_constant(X2)\n",
    "result2_sm = sm.Logit(y, X2_sm).fit(disp=0)\n",
    "print(\"\\nP-Values for Model 2 (Lat * Long Only):\")\n",
    "print(result2_sm.pvalues)\n",
    "\n",
    "# Model 3: Lat, Long, and Lat * Long together as predictors\n",
    "cv_scores3 = cross_val_score(LogisticRegression(), X3, y, cv=kf, scoring='accuracy')\n",
    "print(\"\\nModel 3 (Lat, Long, and Lat * Long Together) Cross-Validation Scores:\", cv_scores3)\n",
    "print(\"Model 3 Mean Accuracy:\", np.mean(cv_scores3))\n",
    "\n",
    "X3_sm = sm.add_constant(X3)\n",
    "result3_sm = sm.Logit(y, X3_sm).fit(disp=0)\n",
    "print(\"\\nP-Values for Model 3 (Lat, Long, and Lat * Long Together):\")\n",
    "print(result3_sm.pvalues)"
   ]
  },
  {
   "cell_type": "markdown",
   "id": "63842cfb-b35f-426e-b181-7cf91b71f5e7",
   "metadata": {},
   "source": [
    "#### Findings from this:\n",
    "The predictors (lat, lng, and lat_times_long) are not statistically significant individually or together, based on their p-values. This means that even though latitude and longitude might help my model accuracy, they might not themselves have a statistically significant relationship with the target variable of binary_party. This could suggest that other factors are more influential to the majority party donations.\n",
    "\n",
    "All of the models are slightly more accurate than randomly guessing, which would be 0.5 accuracy, with lat * long only having the overall most mean accuracy.\n",
    "\n",
    "Since model 3 (Lat, Long, and Lat * Long Together) shows a drop in mean accuracy compared to Model 2, this indicates that combining all three predictors might introduce some noise into the model."
   ]
  },
  {
   "cell_type": "markdown",
   "id": "b061d498-cebd-4fe6-a117-2dd5f16bfd8a",
   "metadata": {},
   "source": [
    "#### Continuing with prediction:\n",
    "I want to include the voting patterns in that geographic area as a factor to my prediction to see if it makes it more accurate or not. In other words, I am interested in if the geographical voting patterns will help train my model. This approach may help me determine whether geographic voting patterns have a significant impact on donation behaviors."
   ]
  },
  {
   "cell_type": "markdown",
   "id": "3213b418-4770-4600-8c3c-a4e79dffe2f7",
   "metadata": {},
   "source": [
    "I read in a dataset with different counties and how they voted, then categorizing the county as 0 for dem and 1 for other in their voting patterns."
   ]
  },
  {
   "cell_type": "code",
   "execution_count": 711,
   "id": "010d8f8e-3c75-49d3-8c8f-e0c4fddeba6d",
   "metadata": {},
   "outputs": [
    {
     "data": {
      "text/html": [
       "<div>\n",
       "<style scoped>\n",
       "    .dataframe tbody tr th:only-of-type {\n",
       "        vertical-align: middle;\n",
       "    }\n",
       "\n",
       "    .dataframe tbody tr th {\n",
       "        vertical-align: top;\n",
       "    }\n",
       "\n",
       "    .dataframe thead th {\n",
       "        text-align: right;\n",
       "    }\n",
       "</style>\n",
       "<table border=\"1\" class=\"dataframe\">\n",
       "  <thead>\n",
       "    <tr style=\"text-align: right;\">\n",
       "      <th></th>\n",
       "      <th>state</th>\n",
       "      <th>county_name</th>\n",
       "      <th>release</th>\n",
       "      <th>discrepancy</th>\n",
       "      <th>biden_cvr</th>\n",
       "      <th>biden_official</th>\n",
       "      <th>jorgensen_cvr</th>\n",
       "      <th>jorgensen_official</th>\n",
       "      <th>trump_cvr</th>\n",
       "      <th>trump_official</th>\n",
       "      <th>undervote_cvr</th>\n",
       "      <th>undervote_official</th>\n",
       "    </tr>\n",
       "  </thead>\n",
       "  <tbody>\n",
       "    <tr>\n",
       "      <th>0</th>\n",
       "      <td>ALASKA</td>\n",
       "      <td>STATEWIDE</td>\n",
       "      <td>0</td>\n",
       "      <td>candidate missing</td>\n",
       "      <td>137638</td>\n",
       "      <td>153778.0</td>\n",
       "      <td>7851</td>\n",
       "      <td>8897.0</td>\n",
       "      <td>165487</td>\n",
       "      <td>189951.0</td>\n",
       "      <td>1501.0</td>\n",
       "      <td>NaN</td>\n",
       "    </tr>\n",
       "    <tr>\n",
       "      <th>1</th>\n",
       "      <td>ARIZONA</td>\n",
       "      <td>MARICOPA</td>\n",
       "      <td>1</td>\n",
       "      <td>0 difference</td>\n",
       "      <td>1040774</td>\n",
       "      <td>1040774.0</td>\n",
       "      <td>31705</td>\n",
       "      <td>31705.0</td>\n",
       "      <td>995665</td>\n",
       "      <td>995665.0</td>\n",
       "      <td>8475.0</td>\n",
       "      <td>NaN</td>\n",
       "    </tr>\n",
       "    <tr>\n",
       "      <th>2</th>\n",
       "      <td>ARIZONA</td>\n",
       "      <td>PIMA</td>\n",
       "      <td>1</td>\n",
       "      <td>0 difference</td>\n",
       "      <td>304981</td>\n",
       "      <td>304981.0</td>\n",
       "      <td>7658</td>\n",
       "      <td>7658.0</td>\n",
       "      <td>207758</td>\n",
       "      <td>207758.0</td>\n",
       "      <td>2382.0</td>\n",
       "      <td>NaN</td>\n",
       "    </tr>\n",
       "    <tr>\n",
       "      <th>3</th>\n",
       "      <td>ARIZONA</td>\n",
       "      <td>SANTA CRUZ</td>\n",
       "      <td>1</td>\n",
       "      <td>0 difference</td>\n",
       "      <td>13138</td>\n",
       "      <td>13138.0</td>\n",
       "      <td>224</td>\n",
       "      <td>224.0</td>\n",
       "      <td>6194</td>\n",
       "      <td>6194.0</td>\n",
       "      <td>NaN</td>\n",
       "      <td>NaN</td>\n",
       "    </tr>\n",
       "    <tr>\n",
       "      <th>4</th>\n",
       "      <td>ARIZONA</td>\n",
       "      <td>YUMA</td>\n",
       "      <td>1</td>\n",
       "      <td>0 difference</td>\n",
       "      <td>32210</td>\n",
       "      <td>32210.0</td>\n",
       "      <td>1137</td>\n",
       "      <td>1137.0</td>\n",
       "      <td>36534</td>\n",
       "      <td>36534.0</td>\n",
       "      <td>281.0</td>\n",
       "      <td>NaN</td>\n",
       "    </tr>\n",
       "  </tbody>\n",
       "</table>\n",
       "</div>"
      ],
      "text/plain": [
       "     state county_name  release        discrepancy  biden_cvr  biden_official  \\\n",
       "0   ALASKA   STATEWIDE        0  candidate missing     137638        153778.0   \n",
       "1  ARIZONA    MARICOPA        1       0 difference    1040774       1040774.0   \n",
       "2  ARIZONA        PIMA        1       0 difference     304981        304981.0   \n",
       "3  ARIZONA  SANTA CRUZ        1       0 difference      13138         13138.0   \n",
       "4  ARIZONA        YUMA        1       0 difference      32210         32210.0   \n",
       "\n",
       "   jorgensen_cvr  jorgensen_official  trump_cvr  trump_official  \\\n",
       "0           7851              8897.0     165487        189951.0   \n",
       "1          31705             31705.0     995665        995665.0   \n",
       "2           7658              7658.0     207758        207758.0   \n",
       "3            224               224.0       6194          6194.0   \n",
       "4           1137              1137.0      36534         36534.0   \n",
       "\n",
       "   undervote_cvr  undervote_official  \n",
       "0         1501.0                 NaN  \n",
       "1         8475.0                 NaN  \n",
       "2         2382.0                 NaN  \n",
       "3            NaN                 NaN  \n",
       "4          281.0                 NaN  "
      ]
     },
     "execution_count": 711,
     "metadata": {},
     "output_type": "execute_result"
    }
   ],
   "source": [
    "county_voting = pd.read_csv(\"county_info.csv\")\n",
    "county_voting.head()"
   ]
  },
  {
   "cell_type": "code",
   "execution_count": 703,
   "id": "bba39bb2-e38c-4fca-a567-5f5dde337f99",
   "metadata": {},
   "outputs": [
    {
     "data": {
      "text/html": [
       "<div>\n",
       "<style scoped>\n",
       "    .dataframe tbody tr th:only-of-type {\n",
       "        vertical-align: middle;\n",
       "    }\n",
       "\n",
       "    .dataframe tbody tr th {\n",
       "        vertical-align: top;\n",
       "    }\n",
       "\n",
       "    .dataframe thead th {\n",
       "        text-align: right;\n",
       "    }\n",
       "</style>\n",
       "<table border=\"1\" class=\"dataframe\">\n",
       "  <thead>\n",
       "    <tr style=\"text-align: right;\">\n",
       "      <th></th>\n",
       "      <th>state</th>\n",
       "      <th>county_name</th>\n",
       "      <th>release</th>\n",
       "      <th>discrepancy</th>\n",
       "      <th>biden_cvr</th>\n",
       "      <th>biden_official</th>\n",
       "      <th>jorgensen_cvr</th>\n",
       "      <th>jorgensen_official</th>\n",
       "      <th>trump_cvr</th>\n",
       "      <th>trump_official</th>\n",
       "      <th>undervote_cvr</th>\n",
       "      <th>undervote_official</th>\n",
       "      <th>total_votes</th>\n",
       "      <th>majority_category</th>\n",
       "    </tr>\n",
       "  </thead>\n",
       "  <tbody>\n",
       "    <tr>\n",
       "      <th>0</th>\n",
       "      <td>ALASKA</td>\n",
       "      <td>STATEWIDE</td>\n",
       "      <td>0</td>\n",
       "      <td>candidate missing</td>\n",
       "      <td>137638</td>\n",
       "      <td>153778.0</td>\n",
       "      <td>7851</td>\n",
       "      <td>8897.0</td>\n",
       "      <td>165487</td>\n",
       "      <td>189951.0</td>\n",
       "      <td>1501.0</td>\n",
       "      <td>NaN</td>\n",
       "      <td>343729.0</td>\n",
       "      <td>1</td>\n",
       "    </tr>\n",
       "    <tr>\n",
       "      <th>1</th>\n",
       "      <td>ARIZONA</td>\n",
       "      <td>MARICOPA</td>\n",
       "      <td>1</td>\n",
       "      <td>0 difference</td>\n",
       "      <td>1040774</td>\n",
       "      <td>1040774.0</td>\n",
       "      <td>31705</td>\n",
       "      <td>31705.0</td>\n",
       "      <td>995665</td>\n",
       "      <td>995665.0</td>\n",
       "      <td>8475.0</td>\n",
       "      <td>NaN</td>\n",
       "      <td>2036439.0</td>\n",
       "      <td>0</td>\n",
       "    </tr>\n",
       "    <tr>\n",
       "      <th>2</th>\n",
       "      <td>ARIZONA</td>\n",
       "      <td>PIMA</td>\n",
       "      <td>1</td>\n",
       "      <td>0 difference</td>\n",
       "      <td>304981</td>\n",
       "      <td>304981.0</td>\n",
       "      <td>7658</td>\n",
       "      <td>7658.0</td>\n",
       "      <td>207758</td>\n",
       "      <td>207758.0</td>\n",
       "      <td>2382.0</td>\n",
       "      <td>NaN</td>\n",
       "      <td>512739.0</td>\n",
       "      <td>0</td>\n",
       "    </tr>\n",
       "    <tr>\n",
       "      <th>3</th>\n",
       "      <td>ARIZONA</td>\n",
       "      <td>SANTA CRUZ</td>\n",
       "      <td>1</td>\n",
       "      <td>0 difference</td>\n",
       "      <td>13138</td>\n",
       "      <td>13138.0</td>\n",
       "      <td>224</td>\n",
       "      <td>224.0</td>\n",
       "      <td>6194</td>\n",
       "      <td>6194.0</td>\n",
       "      <td>NaN</td>\n",
       "      <td>NaN</td>\n",
       "      <td>19332.0</td>\n",
       "      <td>0</td>\n",
       "    </tr>\n",
       "    <tr>\n",
       "      <th>4</th>\n",
       "      <td>ARIZONA</td>\n",
       "      <td>YUMA</td>\n",
       "      <td>1</td>\n",
       "      <td>0 difference</td>\n",
       "      <td>32210</td>\n",
       "      <td>32210.0</td>\n",
       "      <td>1137</td>\n",
       "      <td>1137.0</td>\n",
       "      <td>36534</td>\n",
       "      <td>36534.0</td>\n",
       "      <td>281.0</td>\n",
       "      <td>NaN</td>\n",
       "      <td>68744.0</td>\n",
       "      <td>1</td>\n",
       "    </tr>\n",
       "  </tbody>\n",
       "</table>\n",
       "</div>"
      ],
      "text/plain": [
       "     state county_name  release        discrepancy  biden_cvr  biden_official  \\\n",
       "0   ALASKA   STATEWIDE        0  candidate missing     137638        153778.0   \n",
       "1  ARIZONA    MARICOPA        1       0 difference    1040774       1040774.0   \n",
       "2  ARIZONA        PIMA        1       0 difference     304981        304981.0   \n",
       "3  ARIZONA  SANTA CRUZ        1       0 difference      13138         13138.0   \n",
       "4  ARIZONA        YUMA        1       0 difference      32210         32210.0   \n",
       "\n",
       "   jorgensen_cvr  jorgensen_official  trump_cvr  trump_official  \\\n",
       "0           7851              8897.0     165487        189951.0   \n",
       "1          31705             31705.0     995665        995665.0   \n",
       "2           7658              7658.0     207758        207758.0   \n",
       "3            224               224.0       6194          6194.0   \n",
       "4           1137              1137.0      36534         36534.0   \n",
       "\n",
       "   undervote_cvr  undervote_official  total_votes  majority_category  \n",
       "0         1501.0                 NaN     343729.0                  1  \n",
       "1         8475.0                 NaN    2036439.0                  0  \n",
       "2         2382.0                 NaN     512739.0                  0  \n",
       "3            NaN                 NaN      19332.0                  0  \n",
       "4          281.0                 NaN      68744.0                  1  "
      ]
     },
     "execution_count": 703,
     "metadata": {},
     "output_type": "execute_result"
    }
   ],
   "source": [
    "# Calculate proportions\n",
    "county_voting['total_votes'] = county_voting['biden_official'] + county_voting['trump_official']\n",
    "\n",
    "# Categorize based on vote counts\n",
    "def categorize_voting(row):\n",
    "    if row['biden_official'] > row['trump_official']:\n",
    "        return 0  # Democrat majority\n",
    "    else:\n",
    "        return 1  # Not democrat majority (\"other\")\n",
    "\n",
    "county_voting['majority_category'] = county_voting.apply(categorize_voting, axis=1)\n",
    "\n",
    "county_voting.head()\n"
   ]
  },
  {
   "cell_type": "markdown",
   "id": "4f9ec8e9-6182-4d3c-8548-63d047a91350",
   "metadata": {},
   "source": [
    "Then, since my county data set did not include lat and long, I added in another data set with the lat and long, merging them together with only the relevant info I will need later."
   ]
  },
  {
   "cell_type": "code",
   "execution_count": 704,
   "id": "582a050c-877e-44b3-975f-a82334d1759b",
   "metadata": {},
   "outputs": [
    {
     "data": {
      "text/html": [
       "<div>\n",
       "<style scoped>\n",
       "    .dataframe tbody tr th:only-of-type {\n",
       "        vertical-align: middle;\n",
       "    }\n",
       "\n",
       "    .dataframe tbody tr th {\n",
       "        vertical-align: top;\n",
       "    }\n",
       "\n",
       "    .dataframe thead th {\n",
       "        text-align: right;\n",
       "    }\n",
       "</style>\n",
       "<table border=\"1\" class=\"dataframe\">\n",
       "  <thead>\n",
       "    <tr style=\"text-align: right;\">\n",
       "      <th></th>\n",
       "      <th>county</th>\n",
       "      <th>county_ascii</th>\n",
       "      <th>county_full</th>\n",
       "      <th>county_fips</th>\n",
       "      <th>state_id</th>\n",
       "      <th>state_name</th>\n",
       "      <th>lat</th>\n",
       "      <th>lng</th>\n",
       "      <th>population</th>\n",
       "    </tr>\n",
       "  </thead>\n",
       "  <tbody>\n",
       "    <tr>\n",
       "      <th>0</th>\n",
       "      <td>Los Angeles</td>\n",
       "      <td>Los Angeles</td>\n",
       "      <td>Los Angeles County</td>\n",
       "      <td>6037</td>\n",
       "      <td>CA</td>\n",
       "      <td>California</td>\n",
       "      <td>34.3219</td>\n",
       "      <td>-118.2247</td>\n",
       "      <td>9936690</td>\n",
       "    </tr>\n",
       "    <tr>\n",
       "      <th>1</th>\n",
       "      <td>Cook</td>\n",
       "      <td>Cook</td>\n",
       "      <td>Cook County</td>\n",
       "      <td>17031</td>\n",
       "      <td>IL</td>\n",
       "      <td>Illinois</td>\n",
       "      <td>41.8401</td>\n",
       "      <td>-87.8168</td>\n",
       "      <td>5225367</td>\n",
       "    </tr>\n",
       "    <tr>\n",
       "      <th>2</th>\n",
       "      <td>Harris</td>\n",
       "      <td>Harris</td>\n",
       "      <td>Harris County</td>\n",
       "      <td>48201</td>\n",
       "      <td>TX</td>\n",
       "      <td>Texas</td>\n",
       "      <td>29.8578</td>\n",
       "      <td>-95.3938</td>\n",
       "      <td>4726177</td>\n",
       "    </tr>\n",
       "    <tr>\n",
       "      <th>3</th>\n",
       "      <td>Maricopa</td>\n",
       "      <td>Maricopa</td>\n",
       "      <td>Maricopa County</td>\n",
       "      <td>4013</td>\n",
       "      <td>AZ</td>\n",
       "      <td>Arizona</td>\n",
       "      <td>33.3490</td>\n",
       "      <td>-112.4915</td>\n",
       "      <td>4430871</td>\n",
       "    </tr>\n",
       "    <tr>\n",
       "      <th>4</th>\n",
       "      <td>San Diego</td>\n",
       "      <td>San Diego</td>\n",
       "      <td>San Diego County</td>\n",
       "      <td>6073</td>\n",
       "      <td>CA</td>\n",
       "      <td>California</td>\n",
       "      <td>33.0343</td>\n",
       "      <td>-116.7350</td>\n",
       "      <td>3289701</td>\n",
       "    </tr>\n",
       "  </tbody>\n",
       "</table>\n",
       "</div>"
      ],
      "text/plain": [
       "        county county_ascii         county_full  county_fips state_id  \\\n",
       "0  Los Angeles  Los Angeles  Los Angeles County         6037       CA   \n",
       "1         Cook         Cook         Cook County        17031       IL   \n",
       "2       Harris       Harris       Harris County        48201       TX   \n",
       "3     Maricopa     Maricopa     Maricopa County         4013       AZ   \n",
       "4    San Diego    San Diego    San Diego County         6073       CA   \n",
       "\n",
       "   state_name      lat       lng  population  \n",
       "0  California  34.3219 -118.2247     9936690  \n",
       "1    Illinois  41.8401  -87.8168     5225367  \n",
       "2       Texas  29.8578  -95.3938     4726177  \n",
       "3     Arizona  33.3490 -112.4915     4430871  \n",
       "4  California  33.0343 -116.7350     3289701  "
      ]
     },
     "execution_count": 704,
     "metadata": {},
     "output_type": "execute_result"
    }
   ],
   "source": [
    "county_latlng = pd.read_csv(\"uscounties.csv\")\n",
    "county_latlng.head()"
   ]
  },
  {
   "cell_type": "code",
   "execution_count": 706,
   "id": "23fb0e93-a097-4cc6-988b-c6eb8fb7a7c3",
   "metadata": {},
   "outputs": [
    {
     "data": {
      "text/html": [
       "<div>\n",
       "<style scoped>\n",
       "    .dataframe tbody tr th:only-of-type {\n",
       "        vertical-align: middle;\n",
       "    }\n",
       "\n",
       "    .dataframe tbody tr th {\n",
       "        vertical-align: top;\n",
       "    }\n",
       "\n",
       "    .dataframe thead th {\n",
       "        text-align: right;\n",
       "    }\n",
       "</style>\n",
       "<table border=\"1\" class=\"dataframe\">\n",
       "  <thead>\n",
       "    <tr style=\"text-align: right;\">\n",
       "      <th></th>\n",
       "      <th>lat</th>\n",
       "      <th>lng</th>\n",
       "      <th>majority_category</th>\n",
       "    </tr>\n",
       "  </thead>\n",
       "  <tbody>\n",
       "    <tr>\n",
       "      <th>0</th>\n",
       "      <td>34.3219</td>\n",
       "      <td>-118.2247</td>\n",
       "      <td>0</td>\n",
       "    </tr>\n",
       "    <tr>\n",
       "      <th>1</th>\n",
       "      <td>41.8401</td>\n",
       "      <td>-87.8168</td>\n",
       "      <td>1</td>\n",
       "    </tr>\n",
       "    <tr>\n",
       "      <th>2</th>\n",
       "      <td>29.8578</td>\n",
       "      <td>-95.3938</td>\n",
       "      <td>1</td>\n",
       "    </tr>\n",
       "    <tr>\n",
       "      <th>3</th>\n",
       "      <td>33.3490</td>\n",
       "      <td>-112.4915</td>\n",
       "      <td>0</td>\n",
       "    </tr>\n",
       "    <tr>\n",
       "      <th>4</th>\n",
       "      <td>33.0343</td>\n",
       "      <td>-116.7350</td>\n",
       "      <td>0</td>\n",
       "    </tr>\n",
       "  </tbody>\n",
       "</table>\n",
       "</div>"
      ],
      "text/plain": [
       "       lat       lng  majority_category\n",
       "0  34.3219 -118.2247                  0\n",
       "1  41.8401  -87.8168                  1\n",
       "2  29.8578  -95.3938                  1\n",
       "3  33.3490 -112.4915                  0\n",
       "4  33.0343 -116.7350                  0"
      ]
     },
     "execution_count": 706,
     "metadata": {},
     "output_type": "execute_result"
    }
   ],
   "source": [
    "# Standardize column names\n",
    "county_latlng.rename(columns={'county': 'County'}, inplace=True)\n",
    "county_voting.rename(columns={'county_name': 'County'}, inplace=True)\n",
    "\n",
    "# Convert County names to uppercase for both datasets\n",
    "county_latlng['County'] = county_latlng['County'].str.upper()\n",
    "county_voting['County'] = county_voting['County'].str.upper()\n",
    "\n",
    "# Merge the datasets on County and State & drop not important ones\n",
    "lat_long_majority = pd.merge(county_latlng, county_voting, on=[\"County\"], how=\"inner\")\n",
    "location_predominant_party = lat_long_majority[['lat', 'lng', 'majority_category']]\n",
    "location_predominant_party.head()"
   ]
  },
  {
   "cell_type": "markdown",
   "id": "57cc2198-f041-4f86-b204-58032959e0d4",
   "metadata": {},
   "source": [
    "Since my predominant_donation dataset doesn't have the exact same lat and long as this data set, I made a function to find the closest one, and then aligned that with the majority_category in that area."
   ]
  },
  {
   "cell_type": "code",
   "execution_count": 707,
   "id": "4226aa87-2482-421c-92ed-387c212c82db",
   "metadata": {},
   "outputs": [
    {
     "data": {
      "text/html": [
       "<div>\n",
       "<style scoped>\n",
       "    .dataframe tbody tr th:only-of-type {\n",
       "        vertical-align: middle;\n",
       "    }\n",
       "\n",
       "    .dataframe tbody tr th {\n",
       "        vertical-align: top;\n",
       "    }\n",
       "\n",
       "    .dataframe thead th {\n",
       "        text-align: right;\n",
       "    }\n",
       "</style>\n",
       "<table border=\"1\" class=\"dataframe\">\n",
       "  <thead>\n",
       "    <tr style=\"text-align: right;\">\n",
       "      <th></th>\n",
       "      <th>lat</th>\n",
       "      <th>lng</th>\n",
       "      <th>binary_party</th>\n",
       "      <th>lat_times_long</th>\n",
       "      <th>majority_category</th>\n",
       "    </tr>\n",
       "  </thead>\n",
       "  <tbody>\n",
       "    <tr>\n",
       "      <th>0</th>\n",
       "      <td>18.3643</td>\n",
       "      <td>-66.5611</td>\n",
       "      <td>1</td>\n",
       "      <td>-1222.348009</td>\n",
       "      <td>0</td>\n",
       "    </tr>\n",
       "    <tr>\n",
       "      <th>2</th>\n",
       "      <td>18.4054</td>\n",
       "      <td>-65.9792</td>\n",
       "      <td>1</td>\n",
       "      <td>-1214.373568</td>\n",
       "      <td>0</td>\n",
       "    </tr>\n",
       "    <tr>\n",
       "      <th>5</th>\n",
       "      <td>25.7840</td>\n",
       "      <td>-80.2101</td>\n",
       "      <td>1</td>\n",
       "      <td>-2068.137218</td>\n",
       "      <td>0</td>\n",
       "    </tr>\n",
       "    <tr>\n",
       "      <th>6</th>\n",
       "      <td>27.4830</td>\n",
       "      <td>-81.9097</td>\n",
       "      <td>0</td>\n",
       "      <td>-2251.124285</td>\n",
       "      <td>1</td>\n",
       "    </tr>\n",
       "    <tr>\n",
       "      <th>9</th>\n",
       "      <td>27.9945</td>\n",
       "      <td>-82.4447</td>\n",
       "      <td>1</td>\n",
       "      <td>-2307.998154</td>\n",
       "      <td>0</td>\n",
       "    </tr>\n",
       "  </tbody>\n",
       "</table>\n",
       "</div>"
      ],
      "text/plain": [
       "       lat      lng  binary_party  lat_times_long  majority_category\n",
       "0  18.3643 -66.5611             1    -1222.348009                  0\n",
       "2  18.4054 -65.9792             1    -1214.373568                  0\n",
       "5  25.7840 -80.2101             1    -2068.137218                  0\n",
       "6  27.4830 -81.9097             0    -2251.124285                  1\n",
       "9  27.9945 -82.4447             1    -2307.998154                  0"
      ]
     },
     "execution_count": 707,
     "metadata": {},
     "output_type": "execute_result"
    }
   ],
   "source": [
    "# Find the closest lat/lng for each donation\n",
    "def find_closest_lat_lng(donations, majority):\n",
    "    closest_majority = []\n",
    "    for index, row in donations.iterrows():\n",
    "        distances = np.sqrt((majority['lat'] - row['lat'])**2 + (majority['lng'] - row['lng'])**2)\n",
    "        closest_index = distances.idxmin()\n",
    "        closest_majority.append(majority.loc[closest_index, 'majority_category'])\n",
    "    return closest_majority\n",
    "\n",
    "# Merge the datasets\n",
    "predominant_donations['majority_category'] = find_closest_lat_lng(\n",
    "    predominant_donations, lat_long_majority\n",
    ")\n",
    "predominant_donations.head()"
   ]
  },
  {
   "cell_type": "markdown",
   "id": "00220980-ee2b-4e89-ac7d-8a8f8fc374ed",
   "metadata": {},
   "source": [
    "Now, I want to use the majority voting patterns as predictors in my donation analysis. "
   ]
  },
  {
   "cell_type": "code",
   "execution_count": 708,
   "id": "fed2be25-ea80-4507-a418-fe8d92dec7f3",
   "metadata": {},
   "outputs": [
    {
     "name": "stdout",
     "output_type": "stream",
     "text": [
      "Model Cross-Validation Scores: [0.85714286 0.57142857 0.78571429 0.57142857]\n",
      "Mean Accuracy: 0.6964285714285714\n",
      "\n",
      "P-Values for Model:\n",
      "const                0.033980\n",
      "majority_category    0.730631\n",
      "dtype: float64\n"
     ]
    }
   ],
   "source": [
    "from sklearn.model_selection import cross_val_score, KFold\n",
    "from sklearn.linear_model import LogisticRegression\n",
    "import statsmodels.api as sm\n",
    "\n",
    "# Define predictors and target\n",
    "X = predominant_donations[['majority_category']] \n",
    "y = predominant_donations['binary_party']         \n",
    "\n",
    "# Set up k-fold cross-validation\n",
    "kf = KFold(n_splits=4, shuffle=True, random_state=42)\n",
    "model = LogisticRegression()\n",
    "\n",
    "# Perform cross-validation\n",
    "cv_scores = cross_val_score(model, X, y, cv=kf, scoring='accuracy')\n",
    "\n",
    "# Print cross-validation results\n",
    "print(\"Model Cross-Validation Scores:\", cv_scores)\n",
    "print(\"Mean Accuracy:\", np.mean(cv_scores))\n",
    "\n",
    "# Add constant for statsmodels\n",
    "X_sm = sm.add_constant(X)\n",
    "\n",
    "# Fit logistic regression model using statsmodels for p-values\n",
    "model_sm = sm.Logit(y, X_sm)\n",
    "result_sm = model_sm.fit(disp=0)  # Suppress fitting output\n",
    "\n",
    "# Print p-values\n",
    "print(\"\\nP-Values for Model:\")\n",
    "print(result_sm.pvalues)"
   ]
  },
  {
   "cell_type": "markdown",
   "id": "899fe6a5-319d-4bf3-a241-096807dcb960",
   "metadata": {},
   "source": [
    "#### Findings from this:\n",
    "The high p-value suggests that there isn't strong evidence to support the claim that majority_category has a meaningful relationship with the likelihood of donations of a binary_party. However, the mean accuracy is slightly higher than using the latitude and longitude, which suggests it is at the very least not worse at predicting."
   ]
  },
  {
   "cell_type": "markdown",
   "id": "2a7e07cf-6fc6-4f81-8866-64d3601d7bf8",
   "metadata": {},
   "source": [
    "## PART 3 CONCLUSIONS:\n",
    "\n",
    "Overall, Lat * Long Only and using the majority_category in that area were both accurate models around 70% of the time. All of my models had high p-values, but just because these predictors might not be statistically significant (high p-value), they could still be contributing to some form of prediction accuracy due to correlations or indirect effects. I believe that the binary encoding decreased some of the nuance as I was assessing whether or not the donations went to dems or not, and I could not use the bipartisan data. "
   ]
  },
  {
   "cell_type": "markdown",
   "id": "4bcc3031-fef7-4b21-bf3f-c3ce62bf16cd",
   "metadata": {},
   "source": [
    "## FINAL THOUGHTS:\n",
    "\n",
    "I would be interested in moving away from geographical data as it was difficult considering that the teams did not have the easiest way to accesss latitude and longitude. Looking into the future I would like to see if the donations actually influenced the election results. Overall, I am satisified with my project and how I got familiarized looking at political data on my own. I am very interested in applying data science to politics, so this was a great first step into working with data on my own."
   ]
  }
 ],
 "metadata": {
  "kernelspec": {
   "display_name": "Python 3 (ipykernel)",
   "language": "python",
   "name": "python3"
  },
  "language_info": {
   "codemirror_mode": {
    "name": "ipython",
    "version": 3
   },
   "file_extension": ".py",
   "mimetype": "text/x-python",
   "name": "python",
   "nbconvert_exporter": "python",
   "pygments_lexer": "ipython3",
   "version": "3.12.4"
  }
 },
 "nbformat": 4,
 "nbformat_minor": 5
}
